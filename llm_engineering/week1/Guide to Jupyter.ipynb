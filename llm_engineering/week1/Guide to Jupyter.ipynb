{
 "cells": [
  {
   "cell_type": "markdown",
   "id": "5c291475-8c7c-461c-9b12-545a887b2432",
   "metadata": {},
   "source": [
    "# Jupyter Lab\n",
    "\n",
    "## A Quick Start Guide\n",
    "\n",
    "Welcome to the wonderful world of Jupyter lab!  \n",
    "This is a Data Science playground where you can easily write code and investigate the results. It's an ideal environment for:  \n",
    "- Research & Development\n",
    "- Prototyping\n",
    "- Learning (that's us!)\n",
    "\n",
    "It's not typically used for shipping production code, and in Week 8 we'll explore the bridge between Jupyter and python code.\n",
    "\n",
    "A file in Jupyter Lab, like this one, is called a **Notebook**.\n",
    "\n",
    "A long time ago, Jupyter used to be called \"IPython\", and so the extensions of notebooks are \".ipynb\" which stands for \"IPython Notebook\".\n",
    "\n",
    "On the left is a File Browser that lets you navigate around the directories and choose different notebooks. But you probably know that already, or you wouldn't have got here!\n",
    "\n",
    "The notebook consists of a series of square boxes called \"cells\". Some of them contain text, like this cell, and some of them contain code, like the cell below.\n",
    "\n",
    "Click in a cell with code and press `Shift + Return` (or `Shift + Enter`) to run the code and print the output.\n",
    "\n",
    "Do that now for the cell below this:"
   ]
  },
  {
   "cell_type": "code",
   "execution_count": 1,
   "id": "33d37cd8-55c9-4e03-868c-34aa9cab2c80",
   "metadata": {},
   "outputs": [
    {
     "data": {
      "text/plain": [
       "4"
      ]
     },
     "execution_count": 1,
     "metadata": {},
     "output_type": "execute_result"
    }
   ],
   "source": [
    "# Click anywhere in this cell and press Shift + Return\n",
    "\n",
    "2 + 2"
   ]
  },
  {
   "cell_type": "markdown",
   "id": "9e95df7b-55c6-4204-b8f9-cae83360fc23",
   "metadata": {},
   "source": [
    "## Congrats!\n",
    "\n",
    "Now run the next cell which sets a value, followed by the cells after it to print the value"
   ]
  },
  {
   "cell_type": "code",
   "execution_count": 2,
   "id": "585eb9c1-85ee-4c27-8dc2-b4d8d022eda0",
   "metadata": {},
   "outputs": [],
   "source": [
    "# Set a value for a variable\n",
    "\n",
    "favorite_fruit = \"bananas\""
   ]
  },
  {
   "cell_type": "code",
   "execution_count": 3,
   "id": "07792faa-761d-46cb-b9b7-2bbf70bb1628",
   "metadata": {},
   "outputs": [
    {
     "data": {
      "text/plain": [
       "'bananas'"
      ]
     },
     "execution_count": 3,
     "metadata": {},
     "output_type": "execute_result"
    }
   ],
   "source": [
    "# The result of the last statement is shown after you run it\n",
    "\n",
    "favorite_fruit"
   ]
  },
  {
   "cell_type": "code",
   "execution_count": 4,
   "id": "a067d2b1-53d5-4aeb-8a3c-574d39ff654a",
   "metadata": {},
   "outputs": [
    {
     "name": "stdout",
     "output_type": "stream",
     "text": [
      "My favorite fruit is bananas\n"
     ]
    }
   ],
   "source": [
    "# Use the variable\n",
    "\n",
    "print(f\"My favorite fruit is {favorite_fruit}\")"
   ]
  },
  {
   "cell_type": "code",
   "execution_count": 5,
   "id": "4c5a4e60-b7f4-4953-9e80-6d84ba4664ad",
   "metadata": {},
   "outputs": [],
   "source": [
    "# Now change the variable\n",
    "\n",
    "favorite_fruit = f\"anything but {favorite_fruit}\""
   ]
  },
  {
   "cell_type": "markdown",
   "id": "9442d5c9-f57d-4839-b0af-dce58646c04f",
   "metadata": {},
   "source": [
    "## Now go back and rerun the cell with the print statement, two cells back\n",
    "\n",
    "See how it prints something different, even though favorite_fruit was changed further down in the notebook? \n",
    "\n",
    "The order that code appears in the notebook doesn't matter. What matters is the order that the code is **executed**. There's a python process sitting behind this notebook in which the variables are being changed.\n",
    "\n",
    "This catches some people out when they first use Jupyter."
   ]
  },
  {
   "cell_type": "code",
   "execution_count": 6,
   "id": "8e5ec81d-7c5b-4025-bd2e-468d67b581b6",
   "metadata": {},
   "outputs": [
    {
     "name": "stdout",
     "output_type": "stream",
     "text": [
      "My favorite fruit is anything but bananas\n"
     ]
    }
   ],
   "source": [
    "# Then run this cell twice, and see if you understand what's going on\n",
    "\n",
    "print(f\"My favorite fruit is {favorite_fruit}\")\n",
    "\n",
    "favorite_fruit = \"apples\""
   ]
  },
  {
   "cell_type": "markdown",
   "id": "a29dab2d-bab9-4a54-8504-05e62594cc6f",
   "metadata": {},
   "source": [
    "# Explaining the 'kernel'\n",
    "\n",
    "Sitting behind this notebook is a Python process which executes each cell when you run it. That Python process is known as the Kernel. Each notebook has its own separate Kernel.\n",
    "\n",
    "You can go to the Kernel menu and select \"Restart Kernel\".\n",
    "\n",
    "If you then try to run the next cell, you'll get an error, because favorite_fruit is no longer defined. You'll need to run the cells from the top of the notebook again. Then the next cell should run fine."
   ]
  },
  {
   "cell_type": "code",
   "execution_count": 7,
   "id": "84b1e410-5eda-4e2c-97ce-4eebcff816c5",
   "metadata": {},
   "outputs": [
    {
     "name": "stdout",
     "output_type": "stream",
     "text": [
      "My favorite fruit is apples\n"
     ]
    }
   ],
   "source": [
    "print(f\"My favorite fruit is {favorite_fruit}\")"
   ]
  },
  {
   "cell_type": "markdown",
   "id": "4d4188fc-d9cc-42be-8b4e-ae8630456764",
   "metadata": {},
   "source": [
    "# Adding and moving cells\n",
    "\n",
    "Click in this cell, then click the \\[+\\] button in the toolbar above to create a new cell immediately below this one. Copy and paste in the code in the prior cell, then run it! There are also icons in the top right of the selected cell to delete it (bin), duplicate it, and move it up and down.\n"
   ]
  },
  {
   "cell_type": "code",
   "execution_count": null,
   "id": "ce258424-40c3-49a7-9462-e6fa25014b03",
   "metadata": {},
   "outputs": [],
   "source": []
  },
  {
   "cell_type": "markdown",
   "id": "30e71f50-8f01-470a-9d7a-b82a6cef4236",
   "metadata": {},
   "source": [
    "# Cell output\n",
    "\n",
    "When you execute a cell, the standard output and the result of the last statement is written to the area immediately under the code, known as the 'cell output'. When you save a Notebook from the file menu (or command+S), the output is also saved, making it a useful record of what happened.\n",
    "\n",
    "You can clean this up by going to Edit menu >> Clear Outputs of All Cells, or Kernel menu >> Restart Kernel and Clear Outputs of All Cells."
   ]
  },
  {
   "cell_type": "code",
   "execution_count": 8,
   "id": "a4d021e2-c284-411f-8ab1-030530cfbe72",
   "metadata": {},
   "outputs": [
    {
     "name": "stdout",
     "output_type": "stream",
     "text": [
      "['spam', 'spam', 'spam', 'spam', 'spam', 'spam', 'spam', 'spam', 'spam', 'spam', 'spam', 'spam', 'spam', 'spam', 'spam', 'spam', 'spam', 'spam', 'spam', 'spam', 'spam', 'spam', 'spam', 'spam', 'spam', 'spam', 'spam', 'spam', 'spam', 'spam', 'spam', 'spam', 'spam', 'spam', 'spam', 'spam', 'spam', 'spam', 'spam', 'spam', 'spam', 'spam', 'spam', 'spam', 'spam', 'spam', 'spam', 'spam', 'spam', 'spam', 'spam', 'spam', 'spam', 'spam', 'spam', 'spam', 'spam', 'spam', 'spam', 'spam', 'spam', 'spam', 'spam', 'spam', 'spam', 'spam', 'spam', 'spam', 'spam', 'spam', 'spam', 'spam', 'spam', 'spam', 'spam', 'spam', 'spam', 'spam', 'spam', 'spam', 'spam', 'spam', 'spam', 'spam', 'spam', 'spam', 'spam', 'spam', 'spam', 'spam', 'spam', 'spam', 'spam', 'spam', 'spam', 'spam', 'spam', 'spam', 'spam', 'spam', 'spam', 'spam', 'spam', 'spam', 'spam', 'spam', 'spam', 'spam', 'spam', 'spam', 'spam', 'spam', 'spam', 'spam', 'spam', 'spam', 'spam', 'spam', 'spam', 'spam', 'spam', 'spam', 'spam', 'spam', 'spam', 'spam', 'spam', 'spam', 'spam', 'spam', 'spam', 'spam', 'spam', 'spam', 'spam', 'spam', 'spam', 'spam', 'spam', 'spam', 'spam', 'spam', 'spam', 'spam', 'spam', 'spam', 'spam', 'spam', 'spam', 'spam', 'spam', 'spam', 'spam', 'spam', 'spam', 'spam', 'spam', 'spam', 'spam', 'spam', 'spam', 'spam', 'spam', 'spam', 'spam', 'spam', 'spam', 'spam', 'spam', 'spam', 'spam', 'spam', 'spam', 'spam', 'spam', 'spam', 'spam', 'spam', 'spam', 'spam', 'spam', 'spam', 'spam', 'spam', 'spam', 'spam', 'spam', 'spam', 'spam', 'spam', 'spam', 'spam', 'spam', 'spam', 'spam', 'spam', 'spam', 'spam', 'spam', 'spam', 'spam', 'spam', 'spam', 'spam', 'spam', 'spam', 'spam', 'spam', 'spam', 'spam', 'spam', 'spam', 'spam', 'spam', 'spam', 'spam', 'spam', 'spam', 'spam', 'spam', 'spam', 'spam', 'spam', 'spam', 'spam', 'spam', 'spam', 'spam', 'spam', 'spam', 'spam', 'spam', 'spam', 'spam', 'spam', 'spam', 'spam', 'spam', 'spam', 'spam', 'spam', 'spam', 'spam', 'spam', 'spam', 'spam', 'spam', 'spam', 'spam', 'spam', 'spam', 'spam', 'spam', 'spam', 'spam', 'spam', 'spam', 'spam', 'spam', 'spam', 'spam', 'spam', 'spam', 'spam', 'spam', 'spam', 'spam', 'spam', 'spam', 'spam', 'spam', 'spam', 'spam', 'spam', 'spam', 'spam', 'spam', 'spam', 'spam', 'spam', 'spam', 'spam', 'spam', 'spam', 'spam', 'spam', 'spam', 'spam', 'spam', 'spam', 'spam', 'spam', 'spam', 'spam', 'spam', 'spam', 'spam', 'spam', 'spam', 'spam', 'spam', 'spam', 'spam', 'spam', 'spam', 'spam', 'spam', 'spam', 'spam', 'spam', 'spam', 'spam', 'spam', 'spam', 'spam', 'spam', 'spam', 'spam', 'spam', 'spam', 'spam', 'spam', 'spam', 'spam', 'spam', 'spam', 'spam', 'spam', 'spam', 'spam', 'spam', 'spam', 'spam', 'spam', 'spam', 'spam', 'spam', 'spam', 'spam', 'spam', 'spam', 'spam', 'spam', 'spam', 'spam', 'spam', 'spam', 'spam', 'spam', 'spam', 'spam', 'spam', 'spam', 'spam', 'spam', 'spam', 'spam', 'spam', 'spam', 'spam', 'spam', 'spam', 'spam', 'spam', 'spam', 'spam', 'spam', 'spam', 'spam', 'spam', 'spam', 'spam', 'spam', 'spam', 'spam', 'spam', 'spam', 'spam', 'spam', 'spam', 'spam', 'spam', 'spam', 'spam', 'spam', 'spam', 'spam', 'spam', 'spam', 'spam', 'spam', 'spam', 'spam', 'spam', 'spam', 'spam', 'spam', 'spam', 'spam', 'spam', 'spam', 'spam', 'spam', 'spam', 'spam', 'spam', 'spam', 'spam', 'spam', 'spam', 'spam', 'spam', 'spam', 'spam', 'spam', 'spam', 'spam', 'spam', 'spam', 'spam', 'spam', 'spam', 'spam', 'spam', 'spam', 'spam', 'spam', 'spam', 'spam', 'spam', 'spam', 'spam', 'spam', 'spam', 'spam', 'spam', 'spam', 'spam', 'spam', 'spam', 'spam', 'spam', 'spam', 'spam', 'spam', 'spam', 'spam', 'spam', 'spam', 'spam', 'spam', 'spam', 'spam', 'spam', 'spam', 'spam', 'spam', 'spam', 'spam', 'spam', 'spam', 'spam', 'spam', 'spam', 'spam', 'spam', 'spam', 'spam', 'spam', 'spam', 'spam', 'spam', 'spam', 'spam', 'spam', 'spam', 'spam', 'spam', 'spam', 'spam', 'spam', 'spam', 'spam', 'spam', 'spam', 'spam', 'spam', 'spam', 'spam', 'spam', 'spam', 'spam', 'spam', 'spam', 'spam', 'spam', 'spam', 'spam', 'spam', 'spam', 'spam', 'spam', 'spam', 'spam', 'spam', 'spam', 'spam', 'spam', 'spam', 'spam', 'spam', 'spam', 'spam', 'spam', 'spam', 'spam', 'spam', 'spam', 'spam', 'spam', 'spam', 'spam', 'spam', 'spam', 'spam', 'spam', 'spam', 'spam', 'spam', 'spam', 'spam', 'spam', 'spam', 'spam', 'spam', 'spam', 'spam', 'spam', 'spam', 'spam', 'spam', 'spam', 'spam', 'spam', 'spam', 'spam', 'spam', 'spam', 'spam', 'spam', 'spam', 'spam', 'spam', 'spam', 'spam', 'spam', 'spam', 'spam', 'spam', 'spam', 'spam', 'spam', 'spam', 'spam', 'spam', 'spam', 'spam', 'spam', 'spam', 'spam', 'spam', 'spam', 'spam', 'spam', 'spam', 'spam', 'spam', 'spam', 'spam', 'spam', 'spam', 'spam', 'spam', 'spam', 'spam', 'spam', 'spam', 'spam', 'spam', 'spam', 'spam', 'spam', 'spam', 'spam', 'spam', 'spam', 'spam', 'spam', 'spam', 'spam', 'spam', 'spam', 'spam', 'spam', 'spam', 'spam', 'spam', 'spam', 'spam', 'spam', 'spam', 'spam', 'spam', 'spam', 'spam', 'spam', 'spam', 'spam', 'spam', 'spam', 'spam', 'spam', 'spam', 'spam', 'spam', 'spam', 'spam', 'spam', 'spam', 'spam', 'spam', 'spam', 'spam', 'spam', 'spam', 'spam', 'spam', 'spam', 'spam', 'spam', 'spam', 'spam', 'spam', 'spam', 'spam', 'spam', 'spam', 'spam', 'spam', 'spam', 'spam', 'spam', 'spam', 'spam', 'spam', 'spam', 'spam', 'spam', 'spam', 'spam', 'spam', 'spam', 'spam', 'spam', 'spam', 'spam', 'spam', 'spam', 'spam', 'spam', 'spam', 'spam', 'spam', 'spam', 'spam', 'spam', 'spam', 'spam', 'spam', 'spam', 'spam', 'spam', 'spam', 'spam', 'spam', 'spam', 'spam', 'spam', 'spam', 'spam', 'spam', 'spam', 'spam', 'spam', 'spam', 'spam', 'spam', 'spam', 'spam', 'spam', 'spam', 'spam', 'spam', 'spam', 'spam', 'spam', 'spam', 'spam', 'spam', 'spam', 'spam', 'spam', 'spam', 'spam', 'spam', 'spam', 'spam', 'spam', 'spam', 'spam', 'spam', 'spam', 'spam', 'spam', 'spam', 'spam', 'spam', 'spam', 'spam', 'spam', 'spam', 'spam', 'spam', 'spam', 'spam', 'spam', 'spam', 'spam', 'spam', 'spam', 'spam', 'spam', 'spam', 'spam', 'spam', 'spam', 'spam', 'spam', 'spam', 'spam', 'spam', 'spam', 'spam', 'spam', 'spam', 'spam', 'spam', 'spam', 'spam', 'spam', 'spam', 'spam', 'spam', 'spam', 'spam', 'spam', 'spam', 'spam', 'spam', 'spam', 'spam', 'spam', 'spam', 'spam', 'spam', 'spam', 'spam', 'spam', 'spam', 'spam', 'spam', 'spam', 'spam', 'spam', 'spam', 'spam', 'spam', 'spam', 'spam', 'spam', 'spam', 'spam', 'spam', 'spam', 'spam', 'spam', 'spam', 'spam', 'spam', 'spam', 'spam', 'spam', 'spam', 'spam', 'spam', 'spam', 'spam', 'spam', 'spam', 'spam', 'spam', 'spam', 'spam', 'spam', 'spam', 'spam', 'spam', 'spam', 'spam', 'spam', 'spam', 'spam', 'spam', 'spam', 'spam', 'spam', 'spam', 'spam', 'spam', 'spam', 'spam', 'spam', 'spam', 'spam', 'spam', 'spam', 'spam', 'spam', 'spam', 'spam', 'spam', 'spam', 'spam', 'spam', 'spam', 'spam', 'spam', 'spam', 'spam', 'spam', 'spam', 'spam', 'spam', 'spam', 'spam', 'spam', 'spam', 'spam', 'spam', 'spam', 'spam', 'spam', 'spam', 'spam', 'spam', 'spam', 'spam', 'spam', 'spam', 'spam', 'spam', 'spam', 'spam', 'spam', 'spam', 'spam', 'spam', 'spam', 'spam', 'spam', 'spam', 'spam', 'spam', 'spam', 'spam', 'spam', 'spam', 'spam', 'spam', 'spam', 'spam', 'spam', 'spam', 'spam', 'spam', 'spam', 'spam', 'spam', 'spam', 'spam', 'spam', 'spam', 'spam', 'spam', 'spam', 'spam', 'spam', 'spam', 'spam', 'spam', 'spam', 'spam', 'spam', 'spam', 'spam', 'spam', 'spam', 'spam', 'spam', 'spam', 'spam', 'spam', 'spam', 'spam', 'spam', 'spam', 'spam', 'spam', 'spam', 'spam', 'spam', 'spam', 'spam', 'spam', 'spam', 'spam', 'spam', 'spam', 'spam', 'spam', 'spam', 'spam', 'spam', 'spam', 'spam', 'spam', 'spam', 'spam', 'spam', 'spam', 'spam', 'spam', 'spam', 'spam', 'spam', 'spam', 'spam', 'spam', 'spam', 'spam', 'spam', 'spam', 'spam', 'spam', 'spam', 'spam', 'spam', 'spam', 'spam', 'spam', 'spam', 'spam', 'spam', 'spam', 'spam', 'spam', 'spam', 'spam', 'spam', 'spam', 'spam', 'spam', 'spam', 'spam', 'spam', 'spam', 'spam', 'spam', 'spam', 'spam', 'spam', 'spam', 'spam', 'spam', 'spam', 'spam', 'spam', 'spam', 'spam', 'spam']\n"
     ]
    }
   ],
   "source": [
    "spams = [\"spam\"] * 1000\n",
    "print(spams)\n",
    "\n",
    "# Might be worth clearing output after running this!"
   ]
  },
  {
   "cell_type": "code",
   "execution_count": 9,
   "id": "82042fc5-a907-4381-a4b8-eb9386df19cd",
   "metadata": {},
   "outputs": [
    {
     "name": "stderr",
     "output_type": "stream",
     "text": [
      "'ls' is not recognized as an internal or external command,\n",
      "operable program or batch file.\n"
     ]
    }
   ],
   "source": [
    "# list the current directory\n",
    "\n",
    "!ls"
   ]
  },
  {
   "cell_type": "code",
   "execution_count": 10,
   "id": "4fc3e3da-8a55-40cc-9706-48bf12a0e20e",
   "metadata": {},
   "outputs": [
    {
     "name": "stdout",
     "output_type": "stream",
     "text": [
      "\n",
      "Pinging cnn.com [2a04:4e42:800::773] with 32 bytes of data:\n",
      "Reply from 2a04:4e42:800::773: time=18ms \n",
      "Reply from 2a04:4e42:800::773: time=17ms \n",
      "Reply from 2a04:4e42:800::773: time=14ms \n",
      "Reply from 2a04:4e42:800::773: time=17ms \n",
      "\n",
      "Ping statistics for 2a04:4e42:800::773:\n",
      "    Packets: Sent = 4, Received = 4, Lost = 0 (0% loss),\n",
      "Approximate round trip times in milli-seconds:\n",
      "    Minimum = 14ms, Maximum = 18ms, Average = 16ms\n"
     ]
    }
   ],
   "source": [
    "# ping cnn.com - press the stop button in the toolbar when you're bored\n",
    "\n",
    "!ping cnn.com"
   ]
  },
  {
   "cell_type": "code",
   "execution_count": 11,
   "id": "a58e9462-89a2-4b4f-b4aa-51c4bd9f796b",
   "metadata": {},
   "outputs": [
    {
     "name": "stdout",
     "output_type": "stream",
     "text": [
      "Channels:\n",
      " - conda-forge\n",
      " - defaults\n",
      "Platform: win-64\n",
      "Collecting package metadata (repodata.json): ...working... done\n",
      "Solving environment: ...working... done\n",
      "\n",
      "Downloading and Extracting Packages: ...working...\n",
      "scikit-learn-1.6.0   | 9.2 MB    |            |   0% \n",
      "scikit-learn-1.6.0   | 9.2 MB    |            |   0% \n",
      "scikit-learn-1.6.0   | 9.2 MB    | #1         |  12% \n",
      "scikit-learn-1.6.0   | 9.2 MB    | ##5        |  25% \n",
      "scikit-learn-1.6.0   | 9.2 MB    | ###8       |  38% \n",
      "scikit-learn-1.6.0   | 9.2 MB    | #####2     |  53% \n",
      "scikit-learn-1.6.0   | 9.2 MB    | ######6    |  67% \n",
      "scikit-learn-1.6.0   | 9.2 MB    | ########   |  80% \n",
      "scikit-learn-1.6.0   | 9.2 MB    | #########3 |  94% \n",
      "scikit-learn-1.6.0   | 9.2 MB    | ########## | 100% \n",
      "scikit-learn-1.6.0   | 9.2 MB    | ########## | 100% \n",
      "                                                     \n",
      " done\n",
      "Preparing transaction: done\n",
      "Verifying transaction: done\n",
      "Executing transaction: done\n",
      "Installing pip dependencies: / Ran pip subprocess with arguments:\n",
      "['C:\\\\Users\\\\thoma\\\\anaconda3\\\\envs\\\\llms\\\\python.exe', '-m', 'pip', 'install', '-U', '-r', 'C:\\\\Users\\\\thoma\\\\Documents\\\\GitHub\\\\ai\\\\llm_engineering\\\\condaenv.nsio_pa4.requirements.txt', '--exists-action=b']\n",
      "Pip subprocess output:\n",
      "Requirement already satisfied: beautifulsoup4 in c:\\users\\thoma\\anaconda3\\envs\\llms\\lib\\site-packages (from -r C:\\Users\\thoma\\Documents\\GitHub\\ai\\llm_engineering\\condaenv.nsio_pa4.requirements.txt (line 1)) (4.12.3)\n",
      "\n",
      "Requirement already satisfied: plotly in c:\\users\\thoma\\anaconda3\\envs\\llms\\lib\\site-packages (from -r C:\\Users\\thoma\\Documents\\GitHub\\ai\\llm_engineering\\condaenv.nsio_pa4.requirements.txt (line 2)) (5.24.1)\n",
      "\n",
      "Requirement already satisfied: bitsandbytes in c:\\users\\thoma\\anaconda3\\envs\\llms\\lib\\site-packages (from -r C:\\Users\\thoma\\Documents\\GitHub\\ai\\llm_engineering\\condaenv.nsio_pa4.requirements.txt (line 3)) (0.45.0)\n",
      "\n",
      "Requirement already satisfied: transformers in c:\\users\\thoma\\anaconda3\\envs\\llms\\lib\\site-packages (from -r C:\\Users\\thoma\\Documents\\GitHub\\ai\\llm_engineering\\condaenv.nsio_pa4.requirements.txt (line 4)) (4.47.0)\n",
      "\n",
      "Requirement already satisfied: sentence-transformers in c:\\users\\thoma\\anaconda3\\envs\\llms\\lib\\site-packages (from -r C:\\Users\\thoma\\Documents\\GitHub\\ai\\llm_engineering\\condaenv.nsio_pa4.requirements.txt (line 5)) (3.3.1)\n",
      "\n",
      "Requirement already satisfied: datasets in c:\\users\\thoma\\anaconda3\\envs\\llms\\lib\\site-packages (from -r C:\\Users\\thoma\\Documents\\GitHub\\ai\\llm_engineering\\condaenv.nsio_pa4.requirements.txt (line 6)) (3.1.0)\n",
      "\n",
      "Requirement already satisfied: accelerate in c:\\users\\thoma\\anaconda3\\envs\\llms\\lib\\site-packages (from -r C:\\Users\\thoma\\Documents\\GitHub\\ai\\llm_engineering\\condaenv.nsio_pa4.requirements.txt (line 7)) (1.2.0)\n",
      "\n",
      "Requirement already satisfied: openai in c:\\users\\thoma\\anaconda3\\envs\\llms\\lib\\site-packages (from -r C:\\Users\\thoma\\Documents\\GitHub\\ai\\llm_engineering\\condaenv.nsio_pa4.requirements.txt (line 8)) (1.57.1)\n",
      "\n",
      "Requirement already satisfied: anthropic in c:\\users\\thoma\\anaconda3\\envs\\llms\\lib\\site-packages (from -r C:\\Users\\thoma\\Documents\\GitHub\\ai\\llm_engineering\\condaenv.nsio_pa4.requirements.txt (line 9)) (0.40.0)\n",
      "\n",
      "Requirement already satisfied: google-generativeai in c:\\users\\thoma\\anaconda3\\envs\\llms\\lib\\site-packages (from -r C:\\Users\\thoma\\Documents\\GitHub\\ai\\llm_engineering\\condaenv.nsio_pa4.requirements.txt (line 10)) (0.8.3)\n",
      "\n",
      "Requirement already satisfied: gradio in c:\\users\\thoma\\anaconda3\\envs\\llms\\lib\\site-packages (from -r C:\\Users\\thoma\\Documents\\GitHub\\ai\\llm_engineering\\condaenv.nsio_pa4.requirements.txt (line 11)) (5.8.0)\n",
      "\n",
      "Requirement already satisfied: gensim in c:\\users\\thoma\\anaconda3\\envs\\llms\\lib\\site-packages (from -r C:\\Users\\thoma\\Documents\\GitHub\\ai\\llm_engineering\\condaenv.nsio_pa4.requirements.txt (line 12)) (4.3.3)\n",
      "\n",
      "Requirement already satisfied: modal in c:\\users\\thoma\\anaconda3\\envs\\llms\\lib\\site-packages (from -r C:\\Users\\thoma\\Documents\\GitHub\\ai\\llm_engineering\\condaenv.nsio_pa4.requirements.txt (line 13)) (0.67.37)\n",
      "\n",
      "Requirement already satisfied: ollama in c:\\users\\thoma\\anaconda3\\envs\\llms\\lib\\site-packages (from -r C:\\Users\\thoma\\Documents\\GitHub\\ai\\llm_engineering\\condaenv.nsio_pa4.requirements.txt (line 14)) (0.4.4)\n",
      "\n",
      "Requirement already satisfied: psutil in c:\\users\\thoma\\anaconda3\\envs\\llms\\lib\\site-packages (from -r C:\\Users\\thoma\\Documents\\GitHub\\ai\\llm_engineering\\condaenv.nsio_pa4.requirements.txt (line 15)) (6.1.0)\n",
      "\n",
      "Requirement already satisfied: setuptools in c:\\users\\thoma\\anaconda3\\envs\\llms\\lib\\site-packages (from -r C:\\Users\\thoma\\Documents\\GitHub\\ai\\llm_engineering\\condaenv.nsio_pa4.requirements.txt (line 16)) (75.6.0)\n",
      "\n",
      "Requirement already satisfied: speedtest-cli in c:\\users\\thoma\\anaconda3\\envs\\llms\\lib\\site-packages (from -r C:\\Users\\thoma\\Documents\\GitHub\\ai\\llm_engineering\\condaenv.nsio_pa4.requirements.txt (line 17)) (2.1.3)\n",
      "\n",
      "Requirement already satisfied: langchain in c:\\users\\thoma\\anaconda3\\envs\\llms\\lib\\site-packages (from -r C:\\Users\\thoma\\Documents\\GitHub\\ai\\llm_engineering\\condaenv.nsio_pa4.requirements.txt (line 18)) (0.3.10)\n",
      "\n",
      "Requirement already satisfied: langchain-core in c:\\users\\thoma\\anaconda3\\envs\\llms\\lib\\site-packages (from -r C:\\Users\\thoma\\Documents\\GitHub\\ai\\llm_engineering\\condaenv.nsio_pa4.requirements.txt (line 19)) (0.3.22)\n",
      "\n",
      "Requirement already satisfied: langchain-text-splitters in c:\\users\\thoma\\anaconda3\\envs\\llms\\lib\\site-packages (from -r C:\\Users\\thoma\\Documents\\GitHub\\ai\\llm_engineering\\condaenv.nsio_pa4.requirements.txt (line 20)) (0.3.2)\n",
      "\n",
      "Requirement already satisfied: langchain-openai in c:\\users\\thoma\\anaconda3\\envs\\llms\\lib\\site-packages (from -r C:\\Users\\thoma\\Documents\\GitHub\\ai\\llm_engineering\\condaenv.nsio_pa4.requirements.txt (line 21)) (0.2.11)\n",
      "\n",
      "Requirement already satisfied: langchain-chroma in c:\\users\\thoma\\anaconda3\\envs\\llms\\lib\\site-packages (from -r C:\\Users\\thoma\\Documents\\GitHub\\ai\\llm_engineering\\condaenv.nsio_pa4.requirements.txt (line 22)) (0.1.4)\n",
      "\n",
      "Requirement already satisfied: langchain-community in c:\\users\\thoma\\anaconda3\\envs\\llms\\lib\\site-packages (from -r C:\\Users\\thoma\\Documents\\GitHub\\ai\\llm_engineering\\condaenv.nsio_pa4.requirements.txt (line 23)) (0.3.10)\n",
      "\n",
      "Requirement already satisfied: faiss-cpu in c:\\users\\thoma\\anaconda3\\envs\\llms\\lib\\site-packages (from -r C:\\Users\\thoma\\Documents\\GitHub\\ai\\llm_engineering\\condaenv.nsio_pa4.requirements.txt (line 24)) (1.9.0.post1)\n",
      "\n",
      "Requirement already satisfied: feedparser in c:\\users\\thoma\\anaconda3\\envs\\llms\\lib\\site-packages (from -r C:\\Users\\thoma\\Documents\\GitHub\\ai\\llm_engineering\\condaenv.nsio_pa4.requirements.txt (line 25)) (6.0.11)\n",
      "\n",
      "Requirement already satisfied: twilio in c:\\users\\thoma\\anaconda3\\envs\\llms\\lib\\site-packages (from -r C:\\Users\\thoma\\Documents\\GitHub\\ai\\llm_engineering\\condaenv.nsio_pa4.requirements.txt (line 26)) (9.3.8)\n",
      "\n",
      "Requirement already satisfied: pydub in c:\\users\\thoma\\anaconda3\\envs\\llms\\lib\\site-packages (from -r C:\\Users\\thoma\\Documents\\GitHub\\ai\\llm_engineering\\condaenv.nsio_pa4.requirements.txt (line 27)) (0.25.1)\n",
      "\n",
      "Requirement already satisfied: soupsieve>1.2 in c:\\users\\thoma\\anaconda3\\envs\\llms\\lib\\site-packages (from beautifulsoup4->-r C:\\Users\\thoma\\Documents\\GitHub\\ai\\llm_engineering\\condaenv.nsio_pa4.requirements.txt (line 1)) (2.5)\n",
      "\n",
      "Requirement already satisfied: tenacity>=6.2.0 in c:\\users\\thoma\\anaconda3\\envs\\llms\\lib\\site-packages (from plotly->-r C:\\Users\\thoma\\Documents\\GitHub\\ai\\llm_engineering\\condaenv.nsio_pa4.requirements.txt (line 2)) (9.0.0)\n",
      "\n",
      "Requirement already satisfied: packaging in c:\\users\\thoma\\anaconda3\\envs\\llms\\lib\\site-packages (from plotly->-r C:\\Users\\thoma\\Documents\\GitHub\\ai\\llm_engineering\\condaenv.nsio_pa4.requirements.txt (line 2)) (24.2)\n",
      "\n",
      "Requirement already satisfied: torch in c:\\users\\thoma\\anaconda3\\envs\\llms\\lib\\site-packages (from bitsandbytes->-r C:\\Users\\thoma\\Documents\\GitHub\\ai\\llm_engineering\\condaenv.nsio_pa4.requirements.txt (line 3)) (2.3.1)\n",
      "\n",
      "Requirement already satisfied: numpy in c:\\users\\thoma\\anaconda3\\envs\\llms\\lib\\site-packages (from bitsandbytes->-r C:\\Users\\thoma\\Documents\\GitHub\\ai\\llm_engineering\\condaenv.nsio_pa4.requirements.txt (line 3)) (1.26.4)\n",
      "\n",
      "Requirement already satisfied: typing_extensions>=4.8.0 in c:\\users\\thoma\\anaconda3\\envs\\llms\\lib\\site-packages (from bitsandbytes->-r C:\\Users\\thoma\\Documents\\GitHub\\ai\\llm_engineering\\condaenv.nsio_pa4.requirements.txt (line 3)) (4.12.2)\n",
      "\n",
      "Requirement already satisfied: filelock in c:\\users\\thoma\\anaconda3\\envs\\llms\\lib\\site-packages (from transformers->-r C:\\Users\\thoma\\Documents\\GitHub\\ai\\llm_engineering\\condaenv.nsio_pa4.requirements.txt (line 4)) (3.16.1)\n",
      "\n",
      "Requirement already satisfied: huggingface-hub<1.0,>=0.24.0 in c:\\users\\thoma\\anaconda3\\envs\\llms\\lib\\site-packages (from transformers->-r C:\\Users\\thoma\\Documents\\GitHub\\ai\\llm_engineering\\condaenv.nsio_pa4.requirements.txt (line 4)) (0.26.5)\n",
      "\n",
      "Requirement already satisfied: pyyaml>=5.1 in c:\\users\\thoma\\anaconda3\\envs\\llms\\lib\\site-packages (from transformers->-r C:\\Users\\thoma\\Documents\\GitHub\\ai\\llm_engineering\\condaenv.nsio_pa4.requirements.txt (line 4)) (6.0.2)\n",
      "\n",
      "Requirement already satisfied: regex!=2019.12.17 in c:\\users\\thoma\\anaconda3\\envs\\llms\\lib\\site-packages (from transformers->-r C:\\Users\\thoma\\Documents\\GitHub\\ai\\llm_engineering\\condaenv.nsio_pa4.requirements.txt (line 4)) (2024.11.6)\n",
      "\n",
      "Requirement already satisfied: requests in c:\\users\\thoma\\anaconda3\\envs\\llms\\lib\\site-packages (from transformers->-r C:\\Users\\thoma\\Documents\\GitHub\\ai\\llm_engineering\\condaenv.nsio_pa4.requirements.txt (line 4)) (2.32.3)\n",
      "\n",
      "Requirement already satisfied: tokenizers<0.22,>=0.21 in c:\\users\\thoma\\anaconda3\\envs\\llms\\lib\\site-packages (from transformers->-r C:\\Users\\thoma\\Documents\\GitHub\\ai\\llm_engineering\\condaenv.nsio_pa4.requirements.txt (line 4)) (0.21.0)\n",
      "\n",
      "Requirement already satisfied: safetensors>=0.4.1 in c:\\users\\thoma\\anaconda3\\envs\\llms\\lib\\site-packages (from transformers->-r C:\\Users\\thoma\\Documents\\GitHub\\ai\\llm_engineering\\condaenv.nsio_pa4.requirements.txt (line 4)) (0.4.5)\n",
      "\n",
      "Requirement already satisfied: tqdm>=4.27 in c:\\users\\thoma\\anaconda3\\envs\\llms\\lib\\site-packages (from transformers->-r C:\\Users\\thoma\\Documents\\GitHub\\ai\\llm_engineering\\condaenv.nsio_pa4.requirements.txt (line 4)) (4.67.1)\n",
      "\n",
      "Requirement already satisfied: scikit-learn in c:\\users\\thoma\\anaconda3\\envs\\llms\\lib\\site-packages (from sentence-transformers->-r C:\\Users\\thoma\\Documents\\GitHub\\ai\\llm_engineering\\condaenv.nsio_pa4.requirements.txt (line 5)) (1.6.0)\n",
      "\n",
      "Requirement already satisfied: scipy in c:\\users\\thoma\\anaconda3\\envs\\llms\\lib\\site-packages (from sentence-transformers->-r C:\\Users\\thoma\\Documents\\GitHub\\ai\\llm_engineering\\condaenv.nsio_pa4.requirements.txt (line 5)) (1.13.1)\n",
      "\n",
      "Requirement already satisfied: Pillow in c:\\users\\thoma\\anaconda3\\envs\\llms\\lib\\site-packages (from sentence-transformers->-r C:\\Users\\thoma\\Documents\\GitHub\\ai\\llm_engineering\\condaenv.nsio_pa4.requirements.txt (line 5)) (11.0.0)\n",
      "\n",
      "Requirement already satisfied: pyarrow>=15.0.0 in c:\\users\\thoma\\anaconda3\\envs\\llms\\lib\\site-packages (from datasets->-r C:\\Users\\thoma\\Documents\\GitHub\\ai\\llm_engineering\\condaenv.nsio_pa4.requirements.txt (line 6)) (18.1.0)\n",
      "\n",
      "Requirement already satisfied: dill<0.3.9,>=0.3.0 in c:\\users\\thoma\\anaconda3\\envs\\llms\\lib\\site-packages (from datasets->-r C:\\Users\\thoma\\Documents\\GitHub\\ai\\llm_engineering\\condaenv.nsio_pa4.requirements.txt (line 6)) (0.3.8)\n",
      "\n",
      "Requirement already satisfied: pandas in c:\\users\\thoma\\anaconda3\\envs\\llms\\lib\\site-packages (from datasets->-r C:\\Users\\thoma\\Documents\\GitHub\\ai\\llm_engineering\\condaenv.nsio_pa4.requirements.txt (line 6)) (2.2.3)\n",
      "\n",
      "Requirement already satisfied: xxhash in c:\\users\\thoma\\anaconda3\\envs\\llms\\lib\\site-packages (from datasets->-r C:\\Users\\thoma\\Documents\\GitHub\\ai\\llm_engineering\\condaenv.nsio_pa4.requirements.txt (line 6)) (3.5.0)\n",
      "\n",
      "Requirement already satisfied: multiprocess<0.70.17 in c:\\users\\thoma\\anaconda3\\envs\\llms\\lib\\site-packages (from datasets->-r C:\\Users\\thoma\\Documents\\GitHub\\ai\\llm_engineering\\condaenv.nsio_pa4.requirements.txt (line 6)) (0.70.16)\n",
      "\n",
      "Requirement already satisfied: fsspec<=2024.9.0,>=2023.1.0 in c:\\users\\thoma\\anaconda3\\envs\\llms\\lib\\site-packages (from fsspec[http]<=2024.9.0,>=2023.1.0->datasets->-r C:\\Users\\thoma\\Documents\\GitHub\\ai\\llm_engineering\\condaenv.nsio_pa4.requirements.txt (line 6)) (2024.9.0)\n",
      "\n",
      "Requirement already satisfied: aiohttp in c:\\users\\thoma\\anaconda3\\envs\\llms\\lib\\site-packages (from datasets->-r C:\\Users\\thoma\\Documents\\GitHub\\ai\\llm_engineering\\condaenv.nsio_pa4.requirements.txt (line 6)) (3.11.10)\n",
      "\n",
      "Requirement already satisfied: anyio<5,>=3.5.0 in c:\\users\\thoma\\anaconda3\\envs\\llms\\lib\\site-packages (from openai->-r C:\\Users\\thoma\\Documents\\GitHub\\ai\\llm_engineering\\condaenv.nsio_pa4.requirements.txt (line 8)) (4.7.0)\n",
      "\n",
      "Requirement already satisfied: distro<2,>=1.7.0 in c:\\users\\thoma\\anaconda3\\envs\\llms\\lib\\site-packages (from openai->-r C:\\Users\\thoma\\Documents\\GitHub\\ai\\llm_engineering\\condaenv.nsio_pa4.requirements.txt (line 8)) (1.9.0)\n",
      "\n",
      "Requirement already satisfied: httpx<1,>=0.23.0 in c:\\users\\thoma\\anaconda3\\envs\\llms\\lib\\site-packages (from openai->-r C:\\Users\\thoma\\Documents\\GitHub\\ai\\llm_engineering\\condaenv.nsio_pa4.requirements.txt (line 8)) (0.27.2)\n",
      "\n",
      "Requirement already satisfied: jiter<1,>=0.4.0 in c:\\users\\thoma\\anaconda3\\envs\\llms\\lib\\site-packages (from openai->-r C:\\Users\\thoma\\Documents\\GitHub\\ai\\llm_engineering\\condaenv.nsio_pa4.requirements.txt (line 8)) (0.8.0)\n",
      "\n",
      "Requirement already satisfied: pydantic<3,>=1.9.0 in c:\\users\\thoma\\anaconda3\\envs\\llms\\lib\\site-packages (from openai->-r C:\\Users\\thoma\\Documents\\GitHub\\ai\\llm_engineering\\condaenv.nsio_pa4.requirements.txt (line 8)) (2.10.3)\n",
      "\n",
      "Requirement already satisfied: sniffio in c:\\users\\thoma\\anaconda3\\envs\\llms\\lib\\site-packages (from openai->-r C:\\Users\\thoma\\Documents\\GitHub\\ai\\llm_engineering\\condaenv.nsio_pa4.requirements.txt (line 8)) (1.3.1)\n",
      "\n",
      "Requirement already satisfied: google-ai-generativelanguage==0.6.10 in c:\\users\\thoma\\anaconda3\\envs\\llms\\lib\\site-packages (from google-generativeai->-r C:\\Users\\thoma\\Documents\\GitHub\\ai\\llm_engineering\\condaenv.nsio_pa4.requirements.txt (line 10)) (0.6.10)\n",
      "\n",
      "Requirement already satisfied: google-api-core in c:\\users\\thoma\\anaconda3\\envs\\llms\\lib\\site-packages (from google-generativeai->-r C:\\Users\\thoma\\Documents\\GitHub\\ai\\llm_engineering\\condaenv.nsio_pa4.requirements.txt (line 10)) (2.23.0)\n",
      "\n",
      "Requirement already satisfied: google-api-python-client in c:\\users\\thoma\\anaconda3\\envs\\llms\\lib\\site-packages (from google-generativeai->-r C:\\Users\\thoma\\Documents\\GitHub\\ai\\llm_engineering\\condaenv.nsio_pa4.requirements.txt (line 10)) (2.154.0)\n",
      "\n",
      "Requirement already satisfied: google-auth>=2.15.0 in c:\\users\\thoma\\anaconda3\\envs\\llms\\lib\\site-packages (from google-generativeai->-r C:\\Users\\thoma\\Documents\\GitHub\\ai\\llm_engineering\\condaenv.nsio_pa4.requirements.txt (line 10)) (2.36.0)\n",
      "\n",
      "Requirement already satisfied: protobuf in c:\\users\\thoma\\anaconda3\\envs\\llms\\lib\\site-packages (from google-generativeai->-r C:\\Users\\thoma\\Documents\\GitHub\\ai\\llm_engineering\\condaenv.nsio_pa4.requirements.txt (line 10)) (5.28.2)\n",
      "\n",
      "Requirement already satisfied: proto-plus<2.0.0dev,>=1.22.3 in c:\\users\\thoma\\anaconda3\\envs\\llms\\lib\\site-packages (from google-ai-generativelanguage==0.6.10->google-generativeai->-r C:\\Users\\thoma\\Documents\\GitHub\\ai\\llm_engineering\\condaenv.nsio_pa4.requirements.txt (line 10)) (1.25.0)\n",
      "\n",
      "Requirement already satisfied: aiofiles<24.0,>=22.0 in c:\\users\\thoma\\anaconda3\\envs\\llms\\lib\\site-packages (from gradio->-r C:\\Users\\thoma\\Documents\\GitHub\\ai\\llm_engineering\\condaenv.nsio_pa4.requirements.txt (line 11)) (23.2.1)\n",
      "\n",
      "Requirement already satisfied: fastapi<1.0,>=0.115.2 in c:\\users\\thoma\\anaconda3\\envs\\llms\\lib\\site-packages (from gradio->-r C:\\Users\\thoma\\Documents\\GitHub\\ai\\llm_engineering\\condaenv.nsio_pa4.requirements.txt (line 11)) (0.115.6)\n",
      "\n",
      "Requirement already satisfied: ffmpy in c:\\users\\thoma\\anaconda3\\envs\\llms\\lib\\site-packages (from gradio->-r C:\\Users\\thoma\\Documents\\GitHub\\ai\\llm_engineering\\condaenv.nsio_pa4.requirements.txt (line 11)) (0.4.0)\n",
      "\n",
      "Requirement already satisfied: gradio-client==1.5.1 in c:\\users\\thoma\\anaconda3\\envs\\llms\\lib\\site-packages (from gradio->-r C:\\Users\\thoma\\Documents\\GitHub\\ai\\llm_engineering\\condaenv.nsio_pa4.requirements.txt (line 11)) (1.5.1)\n",
      "\n",
      "Requirement already satisfied: jinja2<4.0 in c:\\users\\thoma\\anaconda3\\envs\\llms\\lib\\site-packages (from gradio->-r C:\\Users\\thoma\\Documents\\GitHub\\ai\\llm_engineering\\condaenv.nsio_pa4.requirements.txt (line 11)) (3.1.4)\n",
      "\n",
      "Requirement already satisfied: markupsafe~=2.0 in c:\\users\\thoma\\anaconda3\\envs\\llms\\lib\\site-packages (from gradio->-r C:\\Users\\thoma\\Documents\\GitHub\\ai\\llm_engineering\\condaenv.nsio_pa4.requirements.txt (line 11)) (2.1.5)\n",
      "\n",
      "Requirement already satisfied: orjson~=3.0 in c:\\users\\thoma\\anaconda3\\envs\\llms\\lib\\site-packages (from gradio->-r C:\\Users\\thoma\\Documents\\GitHub\\ai\\llm_engineering\\condaenv.nsio_pa4.requirements.txt (line 11)) (3.10.12)\n",
      "\n",
      "Requirement already satisfied: python-multipart>=0.0.18 in c:\\users\\thoma\\anaconda3\\envs\\llms\\lib\\site-packages (from gradio->-r C:\\Users\\thoma\\Documents\\GitHub\\ai\\llm_engineering\\condaenv.nsio_pa4.requirements.txt (line 11)) (0.0.19)\n",
      "\n",
      "Requirement already satisfied: ruff>=0.2.2 in c:\\users\\thoma\\anaconda3\\envs\\llms\\lib\\site-packages (from gradio->-r C:\\Users\\thoma\\Documents\\GitHub\\ai\\llm_engineering\\condaenv.nsio_pa4.requirements.txt (line 11)) (0.8.2)\n",
      "\n",
      "Requirement already satisfied: safehttpx<0.2.0,>=0.1.6 in c:\\users\\thoma\\anaconda3\\envs\\llms\\lib\\site-packages (from gradio->-r C:\\Users\\thoma\\Documents\\GitHub\\ai\\llm_engineering\\condaenv.nsio_pa4.requirements.txt (line 11)) (0.1.6)\n",
      "\n",
      "Requirement already satisfied: semantic-version~=2.0 in c:\\users\\thoma\\anaconda3\\envs\\llms\\lib\\site-packages (from gradio->-r C:\\Users\\thoma\\Documents\\GitHub\\ai\\llm_engineering\\condaenv.nsio_pa4.requirements.txt (line 11)) (2.10.0)\n",
      "\n",
      "Requirement already satisfied: starlette<1.0,>=0.40.0 in c:\\users\\thoma\\anaconda3\\envs\\llms\\lib\\site-packages (from gradio->-r C:\\Users\\thoma\\Documents\\GitHub\\ai\\llm_engineering\\condaenv.nsio_pa4.requirements.txt (line 11)) (0.41.3)\n",
      "\n",
      "Requirement already satisfied: tomlkit<0.14.0,>=0.12.0 in c:\\users\\thoma\\anaconda3\\envs\\llms\\lib\\site-packages (from gradio->-r C:\\Users\\thoma\\Documents\\GitHub\\ai\\llm_engineering\\condaenv.nsio_pa4.requirements.txt (line 11)) (0.13.2)\n",
      "\n",
      "Requirement already satisfied: typer<1.0,>=0.12 in c:\\users\\thoma\\anaconda3\\envs\\llms\\lib\\site-packages (from gradio->-r C:\\Users\\thoma\\Documents\\GitHub\\ai\\llm_engineering\\condaenv.nsio_pa4.requirements.txt (line 11)) (0.15.1)\n",
      "\n",
      "Requirement already satisfied: uvicorn>=0.14.0 in c:\\users\\thoma\\anaconda3\\envs\\llms\\lib\\site-packages (from gradio->-r C:\\Users\\thoma\\Documents\\GitHub\\ai\\llm_engineering\\condaenv.nsio_pa4.requirements.txt (line 11)) (0.32.1)\n",
      "\n",
      "Requirement already satisfied: websockets<15.0,>=10.0 in c:\\users\\thoma\\anaconda3\\envs\\llms\\lib\\site-packages (from gradio-client==1.5.1->gradio->-r C:\\Users\\thoma\\Documents\\GitHub\\ai\\llm_engineering\\condaenv.nsio_pa4.requirements.txt (line 11)) (14.1)\n",
      "\n",
      "Requirement already satisfied: smart-open>=1.8.1 in c:\\users\\thoma\\anaconda3\\envs\\llms\\lib\\site-packages (from gensim->-r C:\\Users\\thoma\\Documents\\GitHub\\ai\\llm_engineering\\condaenv.nsio_pa4.requirements.txt (line 12)) (7.0.5)\n",
      "\n",
      "Requirement already satisfied: certifi in c:\\users\\thoma\\anaconda3\\envs\\llms\\lib\\site-packages (from modal->-r C:\\Users\\thoma\\Documents\\GitHub\\ai\\llm_engineering\\condaenv.nsio_pa4.requirements.txt (line 13)) (2024.8.30)\n",
      "\n",
      "Requirement already satisfied: click>=8.1.0 in c:\\users\\thoma\\anaconda3\\envs\\llms\\lib\\site-packages (from modal->-r C:\\Users\\thoma\\Documents\\GitHub\\ai\\llm_engineering\\condaenv.nsio_pa4.requirements.txt (line 13)) (8.1.7)\n",
      "\n",
      "Requirement already satisfied: grpclib==0.4.7 in c:\\users\\thoma\\anaconda3\\envs\\llms\\lib\\site-packages (from modal->-r C:\\Users\\thoma\\Documents\\GitHub\\ai\\llm_engineering\\condaenv.nsio_pa4.requirements.txt (line 13)) (0.4.7)\n",
      "\n",
      "Requirement already satisfied: rich>=12.0.0 in c:\\users\\thoma\\anaconda3\\envs\\llms\\lib\\site-packages (from modal->-r C:\\Users\\thoma\\Documents\\GitHub\\ai\\llm_engineering\\condaenv.nsio_pa4.requirements.txt (line 13)) (13.9.4)\n",
      "\n",
      "Requirement already satisfied: synchronicity~=0.9.4 in c:\\users\\thoma\\anaconda3\\envs\\llms\\lib\\site-packages (from modal->-r C:\\Users\\thoma\\Documents\\GitHub\\ai\\llm_engineering\\condaenv.nsio_pa4.requirements.txt (line 13)) (0.9.5)\n",
      "\n",
      "Requirement already satisfied: toml in c:\\users\\thoma\\anaconda3\\envs\\llms\\lib\\site-packages (from modal->-r C:\\Users\\thoma\\Documents\\GitHub\\ai\\llm_engineering\\condaenv.nsio_pa4.requirements.txt (line 13)) (0.10.2)\n",
      "\n",
      "Requirement already satisfied: types-certifi in c:\\users\\thoma\\anaconda3\\envs\\llms\\lib\\site-packages (from modal->-r C:\\Users\\thoma\\Documents\\GitHub\\ai\\llm_engineering\\condaenv.nsio_pa4.requirements.txt (line 13)) (2021.10.8.3)\n",
      "\n",
      "Requirement already satisfied: types-toml in c:\\users\\thoma\\anaconda3\\envs\\llms\\lib\\site-packages (from modal->-r C:\\Users\\thoma\\Documents\\GitHub\\ai\\llm_engineering\\condaenv.nsio_pa4.requirements.txt (line 13)) (0.10.8.20240310)\n",
      "\n",
      "Requirement already satisfied: watchfiles in c:\\users\\thoma\\anaconda3\\envs\\llms\\lib\\site-packages (from modal->-r C:\\Users\\thoma\\Documents\\GitHub\\ai\\llm_engineering\\condaenv.nsio_pa4.requirements.txt (line 13)) (1.0.0)\n",
      "\n",
      "Requirement already satisfied: h2<5,>=3.1.0 in c:\\users\\thoma\\anaconda3\\envs\\llms\\lib\\site-packages (from grpclib==0.4.7->modal->-r C:\\Users\\thoma\\Documents\\GitHub\\ai\\llm_engineering\\condaenv.nsio_pa4.requirements.txt (line 13)) (4.1.0)\n",
      "\n",
      "Requirement already satisfied: multidict in c:\\users\\thoma\\anaconda3\\envs\\llms\\lib\\site-packages (from grpclib==0.4.7->modal->-r C:\\Users\\thoma\\Documents\\GitHub\\ai\\llm_engineering\\condaenv.nsio_pa4.requirements.txt (line 13)) (6.1.0)\n",
      "\n",
      "Requirement already satisfied: SQLAlchemy<3,>=1.4 in c:\\users\\thoma\\anaconda3\\envs\\llms\\lib\\site-packages (from langchain->-r C:\\Users\\thoma\\Documents\\GitHub\\ai\\llm_engineering\\condaenv.nsio_pa4.requirements.txt (line 18)) (2.0.36)\n",
      "\n",
      "Requirement already satisfied: langsmith<0.2.0,>=0.1.17 in c:\\users\\thoma\\anaconda3\\envs\\llms\\lib\\site-packages (from langchain->-r C:\\Users\\thoma\\Documents\\GitHub\\ai\\llm_engineering\\condaenv.nsio_pa4.requirements.txt (line 18)) (0.1.147)\n",
      "\n",
      "Requirement already satisfied: jsonpatch<2.0,>=1.33 in c:\\users\\thoma\\anaconda3\\envs\\llms\\lib\\site-packages (from langchain-core->-r C:\\Users\\thoma\\Documents\\GitHub\\ai\\llm_engineering\\condaenv.nsio_pa4.requirements.txt (line 19)) (1.33)\n",
      "\n",
      "Requirement already satisfied: tiktoken<1,>=0.7 in c:\\users\\thoma\\anaconda3\\envs\\llms\\lib\\site-packages (from langchain-openai->-r C:\\Users\\thoma\\Documents\\GitHub\\ai\\llm_engineering\\condaenv.nsio_pa4.requirements.txt (line 21)) (0.8.0)\n",
      "\n",
      "Requirement already satisfied: chromadb!=0.5.4,!=0.5.5,<0.6.0,>=0.4.0 in c:\\users\\thoma\\anaconda3\\envs\\llms\\lib\\site-packages (from langchain-chroma->-r C:\\Users\\thoma\\Documents\\GitHub\\ai\\llm_engineering\\condaenv.nsio_pa4.requirements.txt (line 22)) (0.5.20)\n",
      "\n",
      "Requirement already satisfied: dataclasses-json<0.7,>=0.5.7 in c:\\users\\thoma\\anaconda3\\envs\\llms\\lib\\site-packages (from langchain-community->-r C:\\Users\\thoma\\Documents\\GitHub\\ai\\llm_engineering\\condaenv.nsio_pa4.requirements.txt (line 23)) (0.6.7)\n",
      "\n",
      "Requirement already satisfied: httpx-sse<0.5.0,>=0.4.0 in c:\\users\\thoma\\anaconda3\\envs\\llms\\lib\\site-packages (from langchain-community->-r C:\\Users\\thoma\\Documents\\GitHub\\ai\\llm_engineering\\condaenv.nsio_pa4.requirements.txt (line 23)) (0.4.0)\n",
      "\n",
      "Requirement already satisfied: pydantic-settings<3.0.0,>=2.4.0 in c:\\users\\thoma\\anaconda3\\envs\\llms\\lib\\site-packages (from langchain-community->-r C:\\Users\\thoma\\Documents\\GitHub\\ai\\llm_engineering\\condaenv.nsio_pa4.requirements.txt (line 23)) (2.6.1)\n",
      "\n",
      "Requirement already satisfied: sgmllib3k in c:\\users\\thoma\\anaconda3\\envs\\llms\\lib\\site-packages (from feedparser->-r C:\\Users\\thoma\\Documents\\GitHub\\ai\\llm_engineering\\condaenv.nsio_pa4.requirements.txt (line 25)) (1.0.0)\n",
      "\n",
      "Requirement already satisfied: PyJWT<3.0.0,>=2.0.0 in c:\\users\\thoma\\anaconda3\\envs\\llms\\lib\\site-packages (from twilio->-r C:\\Users\\thoma\\Documents\\GitHub\\ai\\llm_engineering\\condaenv.nsio_pa4.requirements.txt (line 26)) (2.10.1)\n",
      "\n",
      "Requirement already satisfied: aiohttp-retry==2.8.3 in c:\\users\\thoma\\anaconda3\\envs\\llms\\lib\\site-packages (from twilio->-r C:\\Users\\thoma\\Documents\\GitHub\\ai\\llm_engineering\\condaenv.nsio_pa4.requirements.txt (line 26)) (2.8.3)\n",
      "\n",
      "Requirement already satisfied: aiohappyeyeballs>=2.3.0 in c:\\users\\thoma\\anaconda3\\envs\\llms\\lib\\site-packages (from aiohttp->datasets->-r C:\\Users\\thoma\\Documents\\GitHub\\ai\\llm_engineering\\condaenv.nsio_pa4.requirements.txt (line 6)) (2.4.4)\n",
      "\n",
      "Requirement already satisfied: aiosignal>=1.1.2 in c:\\users\\thoma\\anaconda3\\envs\\llms\\lib\\site-packages (from aiohttp->datasets->-r C:\\Users\\thoma\\Documents\\GitHub\\ai\\llm_engineering\\condaenv.nsio_pa4.requirements.txt (line 6)) (1.3.1)\n",
      "\n",
      "Requirement already satisfied: attrs>=17.3.0 in c:\\users\\thoma\\anaconda3\\envs\\llms\\lib\\site-packages (from aiohttp->datasets->-r C:\\Users\\thoma\\Documents\\GitHub\\ai\\llm_engineering\\condaenv.nsio_pa4.requirements.txt (line 6)) (24.2.0)\n",
      "\n",
      "Requirement already satisfied: frozenlist>=1.1.1 in c:\\users\\thoma\\anaconda3\\envs\\llms\\lib\\site-packages (from aiohttp->datasets->-r C:\\Users\\thoma\\Documents\\GitHub\\ai\\llm_engineering\\condaenv.nsio_pa4.requirements.txt (line 6)) (1.5.0)\n",
      "\n",
      "Requirement already satisfied: propcache>=0.2.0 in c:\\users\\thoma\\anaconda3\\envs\\llms\\lib\\site-packages (from aiohttp->datasets->-r C:\\Users\\thoma\\Documents\\GitHub\\ai\\llm_engineering\\condaenv.nsio_pa4.requirements.txt (line 6)) (0.2.1)\n",
      "\n",
      "Requirement already satisfied: yarl<2.0,>=1.17.0 in c:\\users\\thoma\\anaconda3\\envs\\llms\\lib\\site-packages (from aiohttp->datasets->-r C:\\Users\\thoma\\Documents\\GitHub\\ai\\llm_engineering\\condaenv.nsio_pa4.requirements.txt (line 6)) (1.18.3)\n",
      "\n",
      "Requirement already satisfied: idna>=2.8 in c:\\users\\thoma\\anaconda3\\envs\\llms\\lib\\site-packages (from anyio<5,>=3.5.0->openai->-r C:\\Users\\thoma\\Documents\\GitHub\\ai\\llm_engineering\\condaenv.nsio_pa4.requirements.txt (line 8)) (3.10)\n",
      "\n",
      "Requirement already satisfied: build>=1.0.3 in c:\\users\\thoma\\anaconda3\\envs\\llms\\lib\\site-packages (from chromadb!=0.5.4,!=0.5.5,<0.6.0,>=0.4.0->langchain-chroma->-r C:\\Users\\thoma\\Documents\\GitHub\\ai\\llm_engineering\\condaenv.nsio_pa4.requirements.txt (line 22)) (1.2.2.post1)\n",
      "\n",
      "Requirement already satisfied: chroma-hnswlib==0.7.6 in c:\\users\\thoma\\anaconda3\\envs\\llms\\lib\\site-packages (from chromadb!=0.5.4,!=0.5.5,<0.6.0,>=0.4.0->langchain-chroma->-r C:\\Users\\thoma\\Documents\\GitHub\\ai\\llm_engineering\\condaenv.nsio_pa4.requirements.txt (line 22)) (0.7.6)\n",
      "\n",
      "Requirement already satisfied: posthog>=2.4.0 in c:\\users\\thoma\\anaconda3\\envs\\llms\\lib\\site-packages (from chromadb!=0.5.4,!=0.5.5,<0.6.0,>=0.4.0->langchain-chroma->-r C:\\Users\\thoma\\Documents\\GitHub\\ai\\llm_engineering\\condaenv.nsio_pa4.requirements.txt (line 22)) (3.6.5)\n",
      "\n",
      "Requirement already satisfied: onnxruntime>=1.14.1 in c:\\users\\thoma\\anaconda3\\envs\\llms\\lib\\site-packages (from chromadb!=0.5.4,!=0.5.5,<0.6.0,>=0.4.0->langchain-chroma->-r C:\\Users\\thoma\\Documents\\GitHub\\ai\\llm_engineering\\condaenv.nsio_pa4.requirements.txt (line 22)) (1.19.2)\n",
      "\n",
      "Requirement already satisfied: opentelemetry-api>=1.2.0 in c:\\users\\thoma\\anaconda3\\envs\\llms\\lib\\site-packages (from chromadb!=0.5.4,!=0.5.5,<0.6.0,>=0.4.0->langchain-chroma->-r C:\\Users\\thoma\\Documents\\GitHub\\ai\\llm_engineering\\condaenv.nsio_pa4.requirements.txt (line 22)) (1.28.2)\n",
      "\n",
      "Requirement already satisfied: opentelemetry-exporter-otlp-proto-grpc>=1.2.0 in c:\\users\\thoma\\anaconda3\\envs\\llms\\lib\\site-packages (from chromadb!=0.5.4,!=0.5.5,<0.6.0,>=0.4.0->langchain-chroma->-r C:\\Users\\thoma\\Documents\\GitHub\\ai\\llm_engineering\\condaenv.nsio_pa4.requirements.txt (line 22)) (1.28.2)\n",
      "\n",
      "Requirement already satisfied: opentelemetry-instrumentation-fastapi>=0.41b0 in c:\\users\\thoma\\anaconda3\\envs\\llms\\lib\\site-packages (from chromadb!=0.5.4,!=0.5.5,<0.6.0,>=0.4.0->langchain-chroma->-r C:\\Users\\thoma\\Documents\\GitHub\\ai\\llm_engineering\\condaenv.nsio_pa4.requirements.txt (line 22)) (0.49b2)\n",
      "\n",
      "Requirement already satisfied: opentelemetry-sdk>=1.2.0 in c:\\users\\thoma\\anaconda3\\envs\\llms\\lib\\site-packages (from chromadb!=0.5.4,!=0.5.5,<0.6.0,>=0.4.0->langchain-chroma->-r C:\\Users\\thoma\\Documents\\GitHub\\ai\\llm_engineering\\condaenv.nsio_pa4.requirements.txt (line 22)) (1.28.2)\n",
      "\n",
      "Requirement already satisfied: pypika>=0.48.9 in c:\\users\\thoma\\anaconda3\\envs\\llms\\lib\\site-packages (from chromadb!=0.5.4,!=0.5.5,<0.6.0,>=0.4.0->langchain-chroma->-r C:\\Users\\thoma\\Documents\\GitHub\\ai\\llm_engineering\\condaenv.nsio_pa4.requirements.txt (line 22)) (0.48.9)\n",
      "\n",
      "Requirement already satisfied: overrides>=7.3.1 in c:\\users\\thoma\\anaconda3\\envs\\llms\\lib\\site-packages (from chromadb!=0.5.4,!=0.5.5,<0.6.0,>=0.4.0->langchain-chroma->-r C:\\Users\\thoma\\Documents\\GitHub\\ai\\llm_engineering\\condaenv.nsio_pa4.requirements.txt (line 22)) (7.7.0)\n",
      "\n",
      "Requirement already satisfied: importlib-resources in c:\\users\\thoma\\anaconda3\\envs\\llms\\lib\\site-packages (from chromadb!=0.5.4,!=0.5.5,<0.6.0,>=0.4.0->langchain-chroma->-r C:\\Users\\thoma\\Documents\\GitHub\\ai\\llm_engineering\\condaenv.nsio_pa4.requirements.txt (line 22)) (6.4.5)\n",
      "\n",
      "Requirement already satisfied: grpcio>=1.58.0 in c:\\users\\thoma\\anaconda3\\envs\\llms\\lib\\site-packages (from chromadb!=0.5.4,!=0.5.5,<0.6.0,>=0.4.0->langchain-chroma->-r C:\\Users\\thoma\\Documents\\GitHub\\ai\\llm_engineering\\condaenv.nsio_pa4.requirements.txt (line 22)) (1.68.1)\n",
      "\n",
      "Requirement already satisfied: bcrypt>=4.0.1 in c:\\users\\thoma\\anaconda3\\envs\\llms\\lib\\site-packages (from chromadb!=0.5.4,!=0.5.5,<0.6.0,>=0.4.0->langchain-chroma->-r C:\\Users\\thoma\\Documents\\GitHub\\ai\\llm_engineering\\condaenv.nsio_pa4.requirements.txt (line 22)) (4.2.1)\n",
      "\n",
      "Requirement already satisfied: kubernetes>=28.1.0 in c:\\users\\thoma\\anaconda3\\envs\\llms\\lib\\site-packages (from chromadb!=0.5.4,!=0.5.5,<0.6.0,>=0.4.0->langchain-chroma->-r C:\\Users\\thoma\\Documents\\GitHub\\ai\\llm_engineering\\condaenv.nsio_pa4.requirements.txt (line 22)) (31.0.0)\n",
      "\n",
      "Requirement already satisfied: mmh3>=4.0.1 in c:\\users\\thoma\\anaconda3\\envs\\llms\\lib\\site-packages (from chromadb!=0.5.4,!=0.5.5,<0.6.0,>=0.4.0->langchain-chroma->-r C:\\Users\\thoma\\Documents\\GitHub\\ai\\llm_engineering\\condaenv.nsio_pa4.requirements.txt (line 22)) (5.0.1)\n",
      "\n",
      "Requirement already satisfied: colorama in c:\\users\\thoma\\anaconda3\\envs\\llms\\lib\\site-packages (from click>=8.1.0->modal->-r C:\\Users\\thoma\\Documents\\GitHub\\ai\\llm_engineering\\condaenv.nsio_pa4.requirements.txt (line 13)) (0.4.6)\n",
      "\n",
      "Requirement already satisfied: marshmallow<4.0.0,>=3.18.0 in c:\\users\\thoma\\anaconda3\\envs\\llms\\lib\\site-packages (from dataclasses-json<0.7,>=0.5.7->langchain-community->-r C:\\Users\\thoma\\Documents\\GitHub\\ai\\llm_engineering\\condaenv.nsio_pa4.requirements.txt (line 23)) (3.23.1)\n",
      "\n",
      "Requirement already satisfied: typing-inspect<1,>=0.4.0 in c:\\users\\thoma\\anaconda3\\envs\\llms\\lib\\site-packages (from dataclasses-json<0.7,>=0.5.7->langchain-community->-r C:\\Users\\thoma\\Documents\\GitHub\\ai\\llm_engineering\\condaenv.nsio_pa4.requirements.txt (line 23)) (0.9.0)\n",
      "\n",
      "Requirement already satisfied: googleapis-common-protos<2.0.dev0,>=1.56.2 in c:\\users\\thoma\\anaconda3\\envs\\llms\\lib\\site-packages (from google-api-core->google-generativeai->-r C:\\Users\\thoma\\Documents\\GitHub\\ai\\llm_engineering\\condaenv.nsio_pa4.requirements.txt (line 10)) (1.66.0)\n",
      "\n",
      "Requirement already satisfied: cachetools<6.0,>=2.0.0 in c:\\users\\thoma\\anaconda3\\envs\\llms\\lib\\site-packages (from google-auth>=2.15.0->google-generativeai->-r C:\\Users\\thoma\\Documents\\GitHub\\ai\\llm_engineering\\condaenv.nsio_pa4.requirements.txt (line 10)) (5.5.0)\n",
      "\n",
      "Requirement already satisfied: pyasn1-modules>=0.2.1 in c:\\users\\thoma\\anaconda3\\envs\\llms\\lib\\site-packages (from google-auth>=2.15.0->google-generativeai->-r C:\\Users\\thoma\\Documents\\GitHub\\ai\\llm_engineering\\condaenv.nsio_pa4.requirements.txt (line 10)) (0.4.1)\n",
      "\n",
      "Requirement already satisfied: rsa<5,>=3.1.4 in c:\\users\\thoma\\anaconda3\\envs\\llms\\lib\\site-packages (from google-auth>=2.15.0->google-generativeai->-r C:\\Users\\thoma\\Documents\\GitHub\\ai\\llm_engineering\\condaenv.nsio_pa4.requirements.txt (line 10)) (4.9)\n",
      "\n",
      "Requirement already satisfied: httpcore==1.* in c:\\users\\thoma\\anaconda3\\envs\\llms\\lib\\site-packages (from httpx<1,>=0.23.0->openai->-r C:\\Users\\thoma\\Documents\\GitHub\\ai\\llm_engineering\\condaenv.nsio_pa4.requirements.txt (line 8)) (1.0.7)\n",
      "\n",
      "Requirement already satisfied: h11<0.15,>=0.13 in c:\\users\\thoma\\anaconda3\\envs\\llms\\lib\\site-packages (from httpcore==1.*->httpx<1,>=0.23.0->openai->-r C:\\Users\\thoma\\Documents\\GitHub\\ai\\llm_engineering\\condaenv.nsio_pa4.requirements.txt (line 8)) (0.14.0)\n",
      "\n",
      "Requirement already satisfied: jsonpointer>=1.9 in c:\\users\\thoma\\anaconda3\\envs\\llms\\lib\\site-packages (from jsonpatch<2.0,>=1.33->langchain-core->-r C:\\Users\\thoma\\Documents\\GitHub\\ai\\llm_engineering\\condaenv.nsio_pa4.requirements.txt (line 19)) (3.0.0)\n",
      "\n",
      "Requirement already satisfied: requests-toolbelt<2.0.0,>=1.0.0 in c:\\users\\thoma\\anaconda3\\envs\\llms\\lib\\site-packages (from langsmith<0.2.0,>=0.1.17->langchain->-r C:\\Users\\thoma\\Documents\\GitHub\\ai\\llm_engineering\\condaenv.nsio_pa4.requirements.txt (line 18)) (1.0.0)\n",
      "\n",
      "Requirement already satisfied: python-dateutil>=2.8.2 in c:\\users\\thoma\\anaconda3\\envs\\llms\\lib\\site-packages (from pandas->datasets->-r C:\\Users\\thoma\\Documents\\GitHub\\ai\\llm_engineering\\condaenv.nsio_pa4.requirements.txt (line 6)) (2.9.0.post0)\n",
      "\n",
      "Requirement already satisfied: pytz>=2020.1 in c:\\users\\thoma\\anaconda3\\envs\\llms\\lib\\site-packages (from pandas->datasets->-r C:\\Users\\thoma\\Documents\\GitHub\\ai\\llm_engineering\\condaenv.nsio_pa4.requirements.txt (line 6)) (2024.1)\n",
      "\n",
      "Requirement already satisfied: tzdata>=2022.7 in c:\\users\\thoma\\anaconda3\\envs\\llms\\lib\\site-packages (from pandas->datasets->-r C:\\Users\\thoma\\Documents\\GitHub\\ai\\llm_engineering\\condaenv.nsio_pa4.requirements.txt (line 6)) (2024.2)\n",
      "\n",
      "Requirement already satisfied: annotated-types>=0.6.0 in c:\\users\\thoma\\anaconda3\\envs\\llms\\lib\\site-packages (from pydantic<3,>=1.9.0->openai->-r C:\\Users\\thoma\\Documents\\GitHub\\ai\\llm_engineering\\condaenv.nsio_pa4.requirements.txt (line 8)) (0.7.0)\n",
      "\n",
      "Requirement already satisfied: pydantic-core==2.27.1 in c:\\users\\thoma\\anaconda3\\envs\\llms\\lib\\site-packages (from pydantic<3,>=1.9.0->openai->-r C:\\Users\\thoma\\Documents\\GitHub\\ai\\llm_engineering\\condaenv.nsio_pa4.requirements.txt (line 8)) (2.27.1)\n",
      "\n",
      "Requirement already satisfied: python-dotenv>=0.21.0 in c:\\users\\thoma\\anaconda3\\envs\\llms\\lib\\site-packages (from pydantic-settings<3.0.0,>=2.4.0->langchain-community->-r C:\\Users\\thoma\\Documents\\GitHub\\ai\\llm_engineering\\condaenv.nsio_pa4.requirements.txt (line 23)) (1.0.1)\n",
      "\n",
      "Requirement already satisfied: charset_normalizer<4,>=2 in c:\\users\\thoma\\anaconda3\\envs\\llms\\lib\\site-packages (from requests->transformers->-r C:\\Users\\thoma\\Documents\\GitHub\\ai\\llm_engineering\\condaenv.nsio_pa4.requirements.txt (line 4)) (3.4.0)\n",
      "\n",
      "Requirement already satisfied: urllib3<3,>=1.21.1 in c:\\users\\thoma\\anaconda3\\envs\\llms\\lib\\site-packages (from requests->transformers->-r C:\\Users\\thoma\\Documents\\GitHub\\ai\\llm_engineering\\condaenv.nsio_pa4.requirements.txt (line 4)) (2.2.3)\n",
      "\n",
      "Requirement already satisfied: markdown-it-py>=2.2.0 in c:\\users\\thoma\\anaconda3\\envs\\llms\\lib\\site-packages (from rich>=12.0.0->modal->-r C:\\Users\\thoma\\Documents\\GitHub\\ai\\llm_engineering\\condaenv.nsio_pa4.requirements.txt (line 13)) (3.0.0)\n",
      "\n",
      "Requirement already satisfied: pygments<3.0.0,>=2.13.0 in c:\\users\\thoma\\anaconda3\\envs\\llms\\lib\\site-packages (from rich>=12.0.0->modal->-r C:\\Users\\thoma\\Documents\\GitHub\\ai\\llm_engineering\\condaenv.nsio_pa4.requirements.txt (line 13)) (2.18.0)\n",
      "\n",
      "Requirement already satisfied: wrapt in c:\\users\\thoma\\anaconda3\\envs\\llms\\lib\\site-packages (from smart-open>=1.8.1->gensim->-r C:\\Users\\thoma\\Documents\\GitHub\\ai\\llm_engineering\\condaenv.nsio_pa4.requirements.txt (line 12)) (1.17.0)\n",
      "\n",
      "Requirement already satisfied: greenlet!=0.4.17 in c:\\users\\thoma\\anaconda3\\envs\\llms\\lib\\site-packages (from SQLAlchemy<3,>=1.4->langchain->-r C:\\Users\\thoma\\Documents\\GitHub\\ai\\llm_engineering\\condaenv.nsio_pa4.requirements.txt (line 18)) (3.1.1)\n",
      "\n",
      "Requirement already satisfied: sigtools>=4.0.1 in c:\\users\\thoma\\anaconda3\\envs\\llms\\lib\\site-packages (from synchronicity~=0.9.4->modal->-r C:\\Users\\thoma\\Documents\\GitHub\\ai\\llm_engineering\\condaenv.nsio_pa4.requirements.txt (line 13)) (4.0.1)\n",
      "\n",
      "Requirement already satisfied: sympy in c:\\users\\thoma\\anaconda3\\envs\\llms\\lib\\site-packages (from torch->bitsandbytes->-r C:\\Users\\thoma\\Documents\\GitHub\\ai\\llm_engineering\\condaenv.nsio_pa4.requirements.txt (line 3)) (1.13.3)\n",
      "\n",
      "Requirement already satisfied: networkx in c:\\users\\thoma\\anaconda3\\envs\\llms\\lib\\site-packages (from torch->bitsandbytes->-r C:\\Users\\thoma\\Documents\\GitHub\\ai\\llm_engineering\\condaenv.nsio_pa4.requirements.txt (line 3)) (3.4.2)\n",
      "\n",
      "Requirement already satisfied: shellingham>=1.3.0 in c:\\users\\thoma\\anaconda3\\envs\\llms\\lib\\site-packages (from typer<1.0,>=0.12->gradio->-r C:\\Users\\thoma\\Documents\\GitHub\\ai\\llm_engineering\\condaenv.nsio_pa4.requirements.txt (line 11)) (1.5.4)\n",
      "\n",
      "Requirement already satisfied: httplib2<1.dev0,>=0.19.0 in c:\\users\\thoma\\anaconda3\\envs\\llms\\lib\\site-packages (from google-api-python-client->google-generativeai->-r C:\\Users\\thoma\\Documents\\GitHub\\ai\\llm_engineering\\condaenv.nsio_pa4.requirements.txt (line 10)) (0.22.0)\n",
      "\n",
      "Requirement already satisfied: google-auth-httplib2<1.0.0,>=0.2.0 in c:\\users\\thoma\\anaconda3\\envs\\llms\\lib\\site-packages (from google-api-python-client->google-generativeai->-r C:\\Users\\thoma\\Documents\\GitHub\\ai\\llm_engineering\\condaenv.nsio_pa4.requirements.txt (line 10)) (0.2.0)\n",
      "\n",
      "Requirement already satisfied: uritemplate<5,>=3.0.1 in c:\\users\\thoma\\anaconda3\\envs\\llms\\lib\\site-packages (from google-api-python-client->google-generativeai->-r C:\\Users\\thoma\\Documents\\GitHub\\ai\\llm_engineering\\condaenv.nsio_pa4.requirements.txt (line 10)) (4.1.1)\n",
      "\n",
      "Requirement already satisfied: joblib>=1.2.0 in c:\\users\\thoma\\anaconda3\\envs\\llms\\lib\\site-packages (from scikit-learn->sentence-transformers->-r C:\\Users\\thoma\\Documents\\GitHub\\ai\\llm_engineering\\condaenv.nsio_pa4.requirements.txt (line 5)) (1.4.2)\n",
      "\n",
      "Requirement already satisfied: threadpoolctl>=3.1.0 in c:\\users\\thoma\\anaconda3\\envs\\llms\\lib\\site-packages (from scikit-learn->sentence-transformers->-r C:\\Users\\thoma\\Documents\\GitHub\\ai\\llm_engineering\\condaenv.nsio_pa4.requirements.txt (line 5)) (3.5.0)\n",
      "\n",
      "Requirement already satisfied: pyproject_hooks in c:\\users\\thoma\\anaconda3\\envs\\llms\\lib\\site-packages (from build>=1.0.3->chromadb!=0.5.4,!=0.5.5,<0.6.0,>=0.4.0->langchain-chroma->-r C:\\Users\\thoma\\Documents\\GitHub\\ai\\llm_engineering\\condaenv.nsio_pa4.requirements.txt (line 22)) (1.2.0)\n",
      "\n",
      "Requirement already satisfied: grpcio-status<2.0.dev0,>=1.33.2 in c:\\users\\thoma\\anaconda3\\envs\\llms\\lib\\site-packages (from google-api-core[grpc]!=2.0.*,!=2.1.*,!=2.10.*,!=2.2.*,!=2.3.*,!=2.4.*,!=2.5.*,!=2.6.*,!=2.7.*,!=2.8.*,!=2.9.*,<3.0.0dev,>=1.34.1->google-ai-generativelanguage==0.6.10->google-generativeai->-r C:\\Users\\thoma\\Documents\\GitHub\\ai\\llm_engineering\\condaenv.nsio_pa4.requirements.txt (line 10)) (1.68.1)\n",
      "\n",
      "Requirement already satisfied: hyperframe<7,>=6.0 in c:\\users\\thoma\\anaconda3\\envs\\llms\\lib\\site-packages (from h2<5,>=3.1.0->grpclib==0.4.7->modal->-r C:\\Users\\thoma\\Documents\\GitHub\\ai\\llm_engineering\\condaenv.nsio_pa4.requirements.txt (line 13)) (6.0.1)\n",
      "\n",
      "Requirement already satisfied: hpack<5,>=4.0 in c:\\users\\thoma\\anaconda3\\envs\\llms\\lib\\site-packages (from h2<5,>=3.1.0->grpclib==0.4.7->modal->-r C:\\Users\\thoma\\Documents\\GitHub\\ai\\llm_engineering\\condaenv.nsio_pa4.requirements.txt (line 13)) (4.0.0)\n",
      "\n",
      "Requirement already satisfied: pyparsing!=3.0.0,!=3.0.1,!=3.0.2,!=3.0.3,<4,>=2.4.2 in c:\\users\\thoma\\anaconda3\\envs\\llms\\lib\\site-packages (from httplib2<1.dev0,>=0.19.0->google-api-python-client->google-generativeai->-r C:\\Users\\thoma\\Documents\\GitHub\\ai\\llm_engineering\\condaenv.nsio_pa4.requirements.txt (line 10)) (3.2.0)\n",
      "\n",
      "Requirement already satisfied: six>=1.9.0 in c:\\users\\thoma\\anaconda3\\envs\\llms\\lib\\site-packages (from kubernetes>=28.1.0->chromadb!=0.5.4,!=0.5.5,<0.6.0,>=0.4.0->langchain-chroma->-r C:\\Users\\thoma\\Documents\\GitHub\\ai\\llm_engineering\\condaenv.nsio_pa4.requirements.txt (line 22)) (1.17.0)\n",
      "\n",
      "Requirement already satisfied: websocket-client!=0.40.0,!=0.41.*,!=0.42.*,>=0.32.0 in c:\\users\\thoma\\anaconda3\\envs\\llms\\lib\\site-packages (from kubernetes>=28.1.0->chromadb!=0.5.4,!=0.5.5,<0.6.0,>=0.4.0->langchain-chroma->-r C:\\Users\\thoma\\Documents\\GitHub\\ai\\llm_engineering\\condaenv.nsio_pa4.requirements.txt (line 22)) (1.8.0)\n",
      "\n",
      "Requirement already satisfied: requests-oauthlib in c:\\users\\thoma\\anaconda3\\envs\\llms\\lib\\site-packages (from kubernetes>=28.1.0->chromadb!=0.5.4,!=0.5.5,<0.6.0,>=0.4.0->langchain-chroma->-r C:\\Users\\thoma\\Documents\\GitHub\\ai\\llm_engineering\\condaenv.nsio_pa4.requirements.txt (line 22)) (2.0.0)\n",
      "\n",
      "Requirement already satisfied: oauthlib>=3.2.2 in c:\\users\\thoma\\anaconda3\\envs\\llms\\lib\\site-packages (from kubernetes>=28.1.0->chromadb!=0.5.4,!=0.5.5,<0.6.0,>=0.4.0->langchain-chroma->-r C:\\Users\\thoma\\Documents\\GitHub\\ai\\llm_engineering\\condaenv.nsio_pa4.requirements.txt (line 22)) (3.2.2)\n",
      "\n",
      "Requirement already satisfied: durationpy>=0.7 in c:\\users\\thoma\\anaconda3\\envs\\llms\\lib\\site-packages (from kubernetes>=28.1.0->chromadb!=0.5.4,!=0.5.5,<0.6.0,>=0.4.0->langchain-chroma->-r C:\\Users\\thoma\\Documents\\GitHub\\ai\\llm_engineering\\condaenv.nsio_pa4.requirements.txt (line 22)) (0.9)\n",
      "\n",
      "Requirement already satisfied: mdurl~=0.1 in c:\\users\\thoma\\anaconda3\\envs\\llms\\lib\\site-packages (from markdown-it-py>=2.2.0->rich>=12.0.0->modal->-r C:\\Users\\thoma\\Documents\\GitHub\\ai\\llm_engineering\\condaenv.nsio_pa4.requirements.txt (line 13)) (0.1.2)\n",
      "\n",
      "Requirement already satisfied: coloredlogs in c:\\users\\thoma\\anaconda3\\envs\\llms\\lib\\site-packages (from onnxruntime>=1.14.1->chromadb!=0.5.4,!=0.5.5,<0.6.0,>=0.4.0->langchain-chroma->-r C:\\Users\\thoma\\Documents\\GitHub\\ai\\llm_engineering\\condaenv.nsio_pa4.requirements.txt (line 22)) (15.0.1)\n",
      "\n",
      "Requirement already satisfied: flatbuffers in c:\\users\\thoma\\anaconda3\\envs\\llms\\lib\\site-packages (from onnxruntime>=1.14.1->chromadb!=0.5.4,!=0.5.5,<0.6.0,>=0.4.0->langchain-chroma->-r C:\\Users\\thoma\\Documents\\GitHub\\ai\\llm_engineering\\condaenv.nsio_pa4.requirements.txt (line 22)) (24.3.25)\n",
      "\n",
      "Requirement already satisfied: deprecated>=1.2.6 in c:\\users\\thoma\\anaconda3\\envs\\llms\\lib\\site-packages (from opentelemetry-api>=1.2.0->chromadb!=0.5.4,!=0.5.5,<0.6.0,>=0.4.0->langchain-chroma->-r C:\\Users\\thoma\\Documents\\GitHub\\ai\\llm_engineering\\condaenv.nsio_pa4.requirements.txt (line 22)) (1.2.15)\n",
      "\n",
      "Requirement already satisfied: importlib-metadata<=8.5.0,>=6.0 in c:\\users\\thoma\\anaconda3\\envs\\llms\\lib\\site-packages (from opentelemetry-api>=1.2.0->chromadb!=0.5.4,!=0.5.5,<0.6.0,>=0.4.0->langchain-chroma->-r C:\\Users\\thoma\\Documents\\GitHub\\ai\\llm_engineering\\condaenv.nsio_pa4.requirements.txt (line 22)) (8.5.0)\n",
      "\n",
      "Requirement already satisfied: opentelemetry-exporter-otlp-proto-common==1.28.2 in c:\\users\\thoma\\anaconda3\\envs\\llms\\lib\\site-packages (from opentelemetry-exporter-otlp-proto-grpc>=1.2.0->chromadb!=0.5.4,!=0.5.5,<0.6.0,>=0.4.0->langchain-chroma->-r C:\\Users\\thoma\\Documents\\GitHub\\ai\\llm_engineering\\condaenv.nsio_pa4.requirements.txt (line 22)) (1.28.2)\n",
      "\n",
      "Requirement already satisfied: opentelemetry-proto==1.28.2 in c:\\users\\thoma\\anaconda3\\envs\\llms\\lib\\site-packages (from opentelemetry-exporter-otlp-proto-grpc>=1.2.0->chromadb!=0.5.4,!=0.5.5,<0.6.0,>=0.4.0->langchain-chroma->-r C:\\Users\\thoma\\Documents\\GitHub\\ai\\llm_engineering\\condaenv.nsio_pa4.requirements.txt (line 22)) (1.28.2)\n",
      "\n",
      "Requirement already satisfied: opentelemetry-instrumentation-asgi==0.49b2 in c:\\users\\thoma\\anaconda3\\envs\\llms\\lib\\site-packages (from opentelemetry-instrumentation-fastapi>=0.41b0->chromadb!=0.5.4,!=0.5.5,<0.6.0,>=0.4.0->langchain-chroma->-r C:\\Users\\thoma\\Documents\\GitHub\\ai\\llm_engineering\\condaenv.nsio_pa4.requirements.txt (line 22)) (0.49b2)\n",
      "\n",
      "Requirement already satisfied: opentelemetry-instrumentation==0.49b2 in c:\\users\\thoma\\anaconda3\\envs\\llms\\lib\\site-packages (from opentelemetry-instrumentation-fastapi>=0.41b0->chromadb!=0.5.4,!=0.5.5,<0.6.0,>=0.4.0->langchain-chroma->-r C:\\Users\\thoma\\Documents\\GitHub\\ai\\llm_engineering\\condaenv.nsio_pa4.requirements.txt (line 22)) (0.49b2)\n",
      "\n",
      "Requirement already satisfied: opentelemetry-semantic-conventions==0.49b2 in c:\\users\\thoma\\anaconda3\\envs\\llms\\lib\\site-packages (from opentelemetry-instrumentation-fastapi>=0.41b0->chromadb!=0.5.4,!=0.5.5,<0.6.0,>=0.4.0->langchain-chroma->-r C:\\Users\\thoma\\Documents\\GitHub\\ai\\llm_engineering\\condaenv.nsio_pa4.requirements.txt (line 22)) (0.49b2)\n",
      "\n",
      "Requirement already satisfied: opentelemetry-util-http==0.49b2 in c:\\users\\thoma\\anaconda3\\envs\\llms\\lib\\site-packages (from opentelemetry-instrumentation-fastapi>=0.41b0->chromadb!=0.5.4,!=0.5.5,<0.6.0,>=0.4.0->langchain-chroma->-r C:\\Users\\thoma\\Documents\\GitHub\\ai\\llm_engineering\\condaenv.nsio_pa4.requirements.txt (line 22)) (0.49b2)\n",
      "\n",
      "Requirement already satisfied: asgiref~=3.0 in c:\\users\\thoma\\anaconda3\\envs\\llms\\lib\\site-packages (from opentelemetry-instrumentation-asgi==0.49b2->opentelemetry-instrumentation-fastapi>=0.41b0->chromadb!=0.5.4,!=0.5.5,<0.6.0,>=0.4.0->langchain-chroma->-r C:\\Users\\thoma\\Documents\\GitHub\\ai\\llm_engineering\\condaenv.nsio_pa4.requirements.txt (line 22)) (3.8.1)\n",
      "\n",
      "Requirement already satisfied: monotonic>=1.5 in c:\\users\\thoma\\anaconda3\\envs\\llms\\lib\\site-packages (from posthog>=2.4.0->chromadb!=0.5.4,!=0.5.5,<0.6.0,>=0.4.0->langchain-chroma->-r C:\\Users\\thoma\\Documents\\GitHub\\ai\\llm_engineering\\condaenv.nsio_pa4.requirements.txt (line 22)) (1.5)\n",
      "\n",
      "Requirement already satisfied: backoff>=1.10.0 in c:\\users\\thoma\\anaconda3\\envs\\llms\\lib\\site-packages (from posthog>=2.4.0->chromadb!=0.5.4,!=0.5.5,<0.6.0,>=0.4.0->langchain-chroma->-r C:\\Users\\thoma\\Documents\\GitHub\\ai\\llm_engineering\\condaenv.nsio_pa4.requirements.txt (line 22)) (2.2.1)\n",
      "\n",
      "Requirement already satisfied: pyasn1<0.7.0,>=0.4.6 in c:\\users\\thoma\\anaconda3\\envs\\llms\\lib\\site-packages (from pyasn1-modules>=0.2.1->google-auth>=2.15.0->google-generativeai->-r C:\\Users\\thoma\\Documents\\GitHub\\ai\\llm_engineering\\condaenv.nsio_pa4.requirements.txt (line 10)) (0.6.1)\n",
      "\n",
      "Requirement already satisfied: mypy-extensions>=0.3.0 in c:\\users\\thoma\\anaconda3\\envs\\llms\\lib\\site-packages (from typing-inspect<1,>=0.4.0->dataclasses-json<0.7,>=0.5.7->langchain-community->-r C:\\Users\\thoma\\Documents\\GitHub\\ai\\llm_engineering\\condaenv.nsio_pa4.requirements.txt (line 23)) (1.0.0)\n",
      "\n",
      "Requirement already satisfied: httptools>=0.6.3 in c:\\users\\thoma\\anaconda3\\envs\\llms\\lib\\site-packages (from uvicorn[standard]>=0.18.3->chromadb!=0.5.4,!=0.5.5,<0.6.0,>=0.4.0->langchain-chroma->-r C:\\Users\\thoma\\Documents\\GitHub\\ai\\llm_engineering\\condaenv.nsio_pa4.requirements.txt (line 22)) (0.6.4)\n",
      "\n",
      "Requirement already satisfied: mpmath<1.4,>=1.1.0 in c:\\users\\thoma\\anaconda3\\envs\\llms\\lib\\site-packages (from sympy->torch->bitsandbytes->-r C:\\Users\\thoma\\Documents\\GitHub\\ai\\llm_engineering\\condaenv.nsio_pa4.requirements.txt (line 3)) (1.3.0)\n",
      "\n",
      "Requirement already satisfied: zipp>=3.20 in c:\\users\\thoma\\anaconda3\\envs\\llms\\lib\\site-packages (from importlib-metadata<=8.5.0,>=6.0->opentelemetry-api>=1.2.0->chromadb!=0.5.4,!=0.5.5,<0.6.0,>=0.4.0->langchain-chroma->-r C:\\Users\\thoma\\Documents\\GitHub\\ai\\llm_engineering\\condaenv.nsio_pa4.requirements.txt (line 22)) (3.21.0)\n",
      "\n",
      "Requirement already satisfied: humanfriendly>=9.1 in c:\\users\\thoma\\anaconda3\\envs\\llms\\lib\\site-packages (from coloredlogs->onnxruntime>=1.14.1->chromadb!=0.5.4,!=0.5.5,<0.6.0,>=0.4.0->langchain-chroma->-r C:\\Users\\thoma\\Documents\\GitHub\\ai\\llm_engineering\\condaenv.nsio_pa4.requirements.txt (line 22)) (10.0)\n",
      "\n",
      "Requirement already satisfied: pyreadline3 in c:\\users\\thoma\\anaconda3\\envs\\llms\\lib\\site-packages (from humanfriendly>=9.1->coloredlogs->onnxruntime>=1.14.1->chromadb!=0.5.4,!=0.5.5,<0.6.0,>=0.4.0->langchain-chroma->-r C:\\Users\\thoma\\Documents\\GitHub\\ai\\llm_engineering\\condaenv.nsio_pa4.requirements.txt (line 22)) (0.0.0)\n",
      "\n",
      "\n",
      "done\n",
      "#\n",
      "# To activate this environment, use\n",
      "#\n",
      "#     $ conda activate llms\n",
      "#\n",
      "# To deactivate an active environment, use\n",
      "#\n",
      "#     $ conda deactivate\n",
      "\n"
     ]
    }
   ],
   "source": [
    "# This is a useful command that ensures your Anaconda environment \n",
    "# is up to date with any new upgrades to packages;\n",
    "# But it might take a minute and will print a lot to output\n",
    "\n",
    "!conda env update -f ../environment.yml --prune"
   ]
  },
  {
   "cell_type": "markdown",
   "id": "4688baaf-a72c-41b5-90b6-474cb24790a7",
   "metadata": {},
   "source": [
    "# Minor things we encounter on the course\n",
    "\n",
    "This isn't necessarily a feature of Jupyter, but it's a nice package to know about that is useful in Jupyter Labs, and I use it in the course.\n",
    "\n",
    "The package `tqdm` will print a nice progress bar if you wrap any iterable."
   ]
  },
  {
   "cell_type": "code",
   "execution_count": null,
   "id": "2646a4e5-3c23-4aee-a34d-d623815187d2",
   "metadata": {},
   "outputs": [],
   "source": [
    "# Here's some code with no progress bar\n",
    "# It will take 10 seconds while you wonder what's happpening..\n",
    "\n",
    "import time\n",
    "\n",
    "spams = [\"spam\"] * 1000\n",
    "\n",
    "for spam in spams:\n",
    "    time.sleep(0.01)"
   ]
  },
  {
   "cell_type": "code",
   "execution_count": 12,
   "id": "6e96be3d-fa82-42a3-a8aa-b81dd20563a5",
   "metadata": {},
   "outputs": [
    {
     "name": "stderr",
     "output_type": "stream",
     "text": [
      "\n",
      "00%|██████████████████████████████████████████████████████████████████████████████| 1000/1000 [00:10<00:00, 94.56it/s]"
     ]
    }
   ],
   "source": [
    "# And now, with a nice little progress bar:\n",
    "\n",
    "import time\n",
    "from tqdm import tqdm\n",
    "\n",
    "spams = [\"spam\"] * 1000\n",
    "\n",
    "for spam in tqdm(spams):\n",
    "    time.sleep(0.01)"
   ]
  },
  {
   "cell_type": "code",
   "execution_count": 14,
   "id": "63c788dd-4618-4bb4-a5ce-204411a38ade",
   "metadata": {},
   "outputs": [
    {
     "data": {
      "text/markdown": [
       "# This is a big heading!\n",
       "\n",
       "- And this is a bullet-point\n",
       "- So is this\n",
       "- Me, too!"
      ],
      "text/plain": [
       "<IPython.core.display.Markdown object>"
      ]
     },
     "metadata": {},
     "output_type": "display_data"
    }
   ],
   "source": [
    "# On a different topic, here's a useful way to print output in markdown\n",
    "\n",
    "from IPython.display import Markdown, display\n",
    "\n",
    "display(Markdown(\"# This is a big heading!\\n\\n- And this is a bullet-point\\n- So is this\\n- Me, too!\"))\n"
   ]
  },
  {
   "cell_type": "markdown",
   "id": "9d14c1fb-3321-4387-b6ca-9af27676f980",
   "metadata": {},
   "source": [
    "# That's it! You're up to speed on Jupyter Lab.\n",
    "\n",
    "## Want to be even more advanced?\n",
    "\n",
    "If you want to become a pro at Jupyter Lab, you can read their tutorial [here](https://jupyterlab.readthedocs.io/en/latest/). But this isn't required for our course; just a good technique for hitting Shift + Return and enjoying the result!"
   ]
  }
 ],
 "metadata": {
  "kernelspec": {
   "display_name": "Python 3 (ipykernel)",
   "language": "python",
   "name": "python3"
  },
  "language_info": {
   "codemirror_mode": {
    "name": "ipython",
    "version": 3
   },
   "file_extension": ".py",
   "mimetype": "text/x-python",
   "name": "python",
   "nbconvert_exporter": "python",
   "pygments_lexer": "ipython3",
   "version": "3.11.11"
  }
 },
 "nbformat": 4,
 "nbformat_minor": 5
}
