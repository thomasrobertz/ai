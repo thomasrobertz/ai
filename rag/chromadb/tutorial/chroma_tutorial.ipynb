{
 "cells": [
  {
   "cell_type": "markdown",
   "id": "0d33b929-240e-4f34-b989-adaede896ab8",
   "metadata": {},
   "source": [
    "### ChromaDB Tutorial: https://www.youtube.com/watch?v=Qs_y0lTJAp0\n",
    "Usig the chromadb ephemeral client, and custom OpenAI embedding model."
   ]
  },
  {
   "cell_type": "code",
   "execution_count": 1,
   "id": "64e7d727-1873-47cb-b4bf-981536d1336f",
   "metadata": {},
   "outputs": [],
   "source": [
    "import chromadb\n",
    "from pprint import pprint"
   ]
  },
  {
   "cell_type": "code",
   "execution_count": 2,
   "id": "6e51f2ef-ce05-420f-a1ab-3f58bb55be38",
   "metadata": {},
   "outputs": [],
   "source": [
    "chroma_client = chromadb.Client()"
   ]
  },
  {
   "cell_type": "code",
   "execution_count": 3,
   "id": "3def1776-aa30-4f30-ab4c-1287b4ec6051",
   "metadata": {},
   "outputs": [],
   "source": [
    "#collection = chroma_client.create_collection(name=\"documents\")\n",
    "# Better, because it may already exist:\n",
    "collection = chroma_client.get_or_create_collection(name=\"documents\")"
   ]
  },
  {
   "cell_type": "code",
   "execution_count": 4,
   "id": "c9b71ad0-e508-4a49-bc8f-9e18929398d5",
   "metadata": {},
   "outputs": [],
   "source": [
    "collection.add(\n",
    "    documents=[\n",
    "        \"This is a document about pineapple\",\n",
    "        \"This is a document about oranges\"\n",
    "    ],\n",
    "    ids=[\"id1\", \"id2\"]\n",
    ")\n"
   ]
  },
  {
   "cell_type": "code",
   "execution_count": 5,
   "id": "95238cb0-d670-4032-ab1b-8f2c8348e615",
   "metadata": {},
   "outputs": [
    {
     "name": "stdout",
     "output_type": "stream",
     "text": [
      "{'data': None,\n",
      " 'distances': [[1.0404009819030762, 1.2430799007415771]],\n",
      " 'documents': [['This is a document about pineapple',\n",
      "                'This is a document about oranges']],\n",
      " 'embeddings': None,\n",
      " 'ids': [['id1', 'id2']],\n",
      " 'included': [<IncludeEnum.distances: 'distances'>,\n",
      "              <IncludeEnum.documents: 'documents'>,\n",
      "              <IncludeEnum.metadatas: 'metadatas'>],\n",
      " 'metadatas': [[None, None]],\n",
      " 'uris': None}\n"
     ]
    }
   ],
   "source": [
    "results = collection.query(\n",
    "    query_texts=[\"This is a query document about hawaii\"], # Chroma will embed this for you\n",
    "    n_results=2 # how many results to return\n",
    ")\n",
    "pprint(results)\n"
   ]
  },
  {
   "cell_type": "markdown",
   "id": "b6cef9eb-c3ab-484c-b5a4-78d240cdf369",
   "metadata": {},
   "source": [
    "##### As we can see above, the pineapple sentence is closer (less distance), perhaps because of pizza hawaii?"
   ]
  },
  {
   "cell_type": "code",
   "execution_count": 6,
   "id": "86c5a1e0-1414-416c-ad74-9e3628e8eb8f",
   "metadata": {},
   "outputs": [
    {
     "name": "stdout",
     "output_type": "stream",
     "text": [
      "{'data': None,\n",
      " 'distances': [[1.1462137699127197]],\n",
      " 'documents': [['This is a document about oranges']],\n",
      " 'embeddings': None,\n",
      " 'ids': [['id2']],\n",
      " 'included': [<IncludeEnum.distances: 'distances'>,\n",
      "              <IncludeEnum.documents: 'documents'>,\n",
      "              <IncludeEnum.metadatas: 'metadatas'>],\n",
      " 'metadatas': [[None]],\n",
      " 'uris': None}\n"
     ]
    }
   ],
   "source": [
    "results = collection.query(\n",
    "    query_texts=[\"This is a query document about florida\"],\n",
    "    n_results=1\n",
    ")\n",
    "pprint(results)"
   ]
  },
  {
   "cell_type": "markdown",
   "id": "b162a3f7-db18-42a5-ae31-233dab72e06e",
   "metadata": {},
   "source": [
    "##### We can also include filters in the query.\n",
    "\n",
    "Think of these as **SQL-like** filters that operate on the underliying collection, before a similarity search is conducted.\n",
    "\n",
    "For instance:"
   ]
  },
  {
   "cell_type": "code",
   "execution_count": 7,
   "id": "dadefc9c-159c-454f-bab5-6a54217a24f8",
   "metadata": {},
   "outputs": [
    {
     "name": "stdout",
     "output_type": "stream",
     "text": [
      "{'data': None,\n",
      " 'distances': [[1.0404009819030762]],\n",
      " 'documents': [['This is a document about pineapple']],\n",
      " 'embeddings': None,\n",
      " 'ids': [['id1']],\n",
      " 'included': [<IncludeEnum.distances: 'distances'>,\n",
      "              <IncludeEnum.documents: 'documents'>,\n",
      "              <IncludeEnum.metadatas: 'metadatas'>],\n",
      " 'metadatas': [[None]],\n",
      " 'uris': None}\n"
     ]
    }
   ],
   "source": [
    "results = collection.query(\n",
    "    query_texts=[\"This is a query document about hawaii\"],\n",
    "    n_results=2,\n",
    "    where_document={\"$contains\": \"pineapple\"}\n",
    ")\n",
    "pprint(results)"
   ]
  },
  {
   "cell_type": "markdown",
   "id": "035cec23-52d1-4199-b924-b9a2625160c2",
   "metadata": {},
   "source": [
    "**Note** how this time, we only got back one result although we specified two.\n",
    "This is of course because there is only one document that contains the word pineapple."
   ]
  },
  {
   "cell_type": "markdown",
   "id": "d9074edc-c3b3-44fe-b61b-4a926c7a9361",
   "metadata": {},
   "source": [
    "Next download a dataset, we are using https://www.kaggle.com/datasets/asad1m9a9h6mood/news-articles\n",
    "And put it into an \"archives\" directory in the project root, and extract it.\n",
    "Now to work with it using polars (Don't forget to pip install polars if you havn't already):"
   ]
  },
  {
   "cell_type": "code",
   "execution_count": 8,
   "id": "ebe912da-78fb-4a9e-be67-3e0aa39b3549",
   "metadata": {},
   "outputs": [],
   "source": [
    "import polars as pl"
   ]
  },
  {
   "cell_type": "code",
   "execution_count": 9,
   "id": "f9cec46a-d4f6-420d-8b7a-967cd14ec548",
   "metadata": {},
   "outputs": [
    {
     "name": "stdout",
     "output_type": "stream",
     "text": [
      "C:\\Users\\thoma\\Documents\\GitHub\\ai\\rag\\chromadb\n",
      "True\n"
     ]
    }
   ],
   "source": [
    "import os\n",
    "print(os.getcwd()) # Make sure we can read the file\n",
    "print(os.path.exists(\"./archive/Articles.csv\"))"
   ]
  },
  {
   "cell_type": "code",
   "execution_count": 10,
   "id": "5e54e6eb-8bfa-4f16-85e6-7d758c7400f4",
   "metadata": {},
   "outputs": [
    {
     "name": "stdout",
     "output_type": "stream",
     "text": [
      "Reading csv...\n",
      "articles: \n",
      "shape: (2_692, 5)\n",
      "┌───────┬─────────────────────────────────┬───────────┬─────────────────────────────────┬──────────┐\n",
      "│ index ┆ Article                         ┆ Date      ┆ Heading                         ┆ NewsType │\n",
      "│ ---   ┆ ---                             ┆ ---       ┆ ---                             ┆ ---      │\n",
      "│ u32   ┆ str                             ┆ str       ┆ str                             ┆ str      │\n",
      "╞═══════╪═════════════════════════════════╪═══════════╪═════════════════════════════════╪══════════╡\n",
      "│ 1     ┆ KARACHI: The Sindh government … ┆ 1/1/2015  ┆ sindh govt decides to cut publ… ┆ business │\n",
      "│ 2     ┆ HONG KONG: Asian markets start… ┆ 1/2/2015  ┆ asia stocks up in new year tra… ┆ business │\n",
      "│ 3     ┆ HONG KONG:  Hong Kong shares o… ┆ 1/5/2015  ┆ hong kong stocks open 0.66 per… ┆ business │\n",
      "│ 4     ┆ HONG KONG: Asian markets tumbl… ┆ 1/6/2015  ┆ asian stocks sink euro near ni… ┆ business │\n",
      "│ 5     ┆ NEW YORK: US oil prices Monday… ┆ 1/6/2015  ┆ us oil prices slip below 50 a … ┆ business │\n",
      "│ …     ┆ …                               ┆ …         ┆ …                               ┆ …        │\n",
      "│ 2688  ┆ strong>DUBAI: Dubai Internatio… ┆ 3/25/2017 ┆ Laptop ban hits Dubai for 11m … ┆ business │\n",
      "│ 2689  ┆ strong>BEIJING: Former Prime M… ┆ 3/26/2017 ┆ Pak China relations not agains… ┆ business │\n",
      "│ 2690  ┆ strong>WASHINGTON: Uber has gr… ┆ 3/26/2017 ┆ Uber grounds self driving cars… ┆ business │\n",
      "│ 2691  ┆ strong>BEIJING: The New Develo… ┆ 3/27/2017 ┆ New Development Bank plans joi… ┆ business │\n",
      "│ 2692  ┆ strong>KARACHI: Karachi-based … ┆ 3/27/2017 ┆ Google powered Startup Weekend… ┆ business │\n",
      "└───────┴─────────────────────────────────┴───────────┴─────────────────────────────────┴──────────┘\n"
     ]
    }
   ],
   "source": [
    "try:\n",
    "    print(\"Reading csv...\")\n",
    "    articles = pl.read_csv(\"./archive/Articles.csv\", encoding=\"ISO-8859-1\").with_row_index(offset=1) # add an incrementing index column\n",
    "    print(\"articles: \")\n",
    "    print(articles)\n",
    "except Exception as e:\n",
    "    print(f\"An error occurred: {e}\")"
   ]
  },
  {
   "cell_type": "code",
   "execution_count": 11,
   "id": "6cbc166a-d810-4b3c-9868-9e181e1f220f",
   "metadata": {},
   "outputs": [
    {
     "name": "stdout",
     "output_type": "stream",
     "text": [
      "(2692, 5)\n"
     ]
    }
   ],
   "source": [
    "print(articles.shape)"
   ]
  },
  {
   "cell_type": "code",
   "execution_count": 12,
   "id": "4f4e5ebb-5cfa-42dd-b948-962e54916df4",
   "metadata": {},
   "outputs": [],
   "source": [
    "from dotenv import load_dotenv\n",
    "\n",
    "load_dotenv()  # Load environment variables from .env\n",
    "openai_api_key = os.getenv(\"OPENAI_API_KEY\")"
   ]
  },
  {
   "cell_type": "code",
   "execution_count": 13,
   "id": "8d0abb73-6a6a-481f-885d-ea9aebf89b09",
   "metadata": {},
   "outputs": [],
   "source": [
    "# We're using a custom OpenAI embedding model here:\n",
    "import chromadb.utils.embedding_functions as embedding_functions\n",
    "openai_ef = embedding_functions.OpenAIEmbeddingFunction(\n",
    "                api_key=openai_api_key,\n",
    "                model_name=\"text-embedding-3-small\"\n",
    "            )\n"
   ]
  },
  {
   "cell_type": "code",
   "execution_count": 14,
   "id": "fbe0e310-0e7a-42f8-870b-255b3f5e7b8e",
   "metadata": {},
   "outputs": [
    {
     "name": "stdout",
     "output_type": "stream",
     "text": [
      "(50, 5)\n"
     ]
    }
   ],
   "source": [
    "# It is not necessary to call the OpenAI API 2692 times for this demo project\n",
    "articles = articles[:50]\n",
    "print(articles.shape)"
   ]
  },
  {
   "cell_type": "code",
   "execution_count": 15,
   "id": "fb1944e6-1bc1-4ebf-a94d-eae3d2763af1",
   "metadata": {},
   "outputs": [
    {
     "data": {
      "text/plain": [
       "'KARACHI: The Sindh government has decided to bring down public transport fares by 7 per cent due to '"
      ]
     },
     "execution_count": 15,
     "metadata": {},
     "output_type": "execute_result"
    }
   ],
   "source": [
    "articles[\"Article\"][0][:100]"
   ]
  },
  {
   "cell_type": "code",
   "execution_count": 16,
   "id": "84738d3f-8892-45cd-8d1d-36e55ddd6281",
   "metadata": {},
   "outputs": [
    {
     "data": {
      "text/plain": [
       "[array([ 0.00988591,  0.02568489,  0.00104518, ..., -0.02508434,\n",
       "        -0.01958704,  0.00807657], dtype=float32),\n",
       " array([ 0.05952451,  0.01269055, -0.00069948, ..., -0.02103287,\n",
       "        -0.01620701,  0.00878703], dtype=float32),\n",
       " array([ 0.00331469,  0.04346333, -0.01833384, ..., -0.03085521,\n",
       "         0.0225992 ,  0.02097981], dtype=float32),\n",
       " array([ 0.05952451,  0.01269055, -0.00069948, ..., -0.02103287,\n",
       "        -0.01620701,  0.00878703], dtype=float32),\n",
       " array([ 0.06287624,  0.04790863,  0.00675536, ..., -0.04803132,\n",
       "        -0.00498026,  0.01923093], dtype=float32),\n",
       " array([ 0.02750912,  0.0018673 ,  0.01547583, ..., -0.01396485,\n",
       "        -0.02123156,  0.00511318], dtype=float32),\n",
       " array([ 0.02756455,  0.01539813, -0.00891095, ..., -0.04537062,\n",
       "        -0.01197632,  0.03469332], dtype=float32),\n",
       " array([ 0.03073194, -0.00257686, -0.00697588, ..., -0.0302968 ,\n",
       "        -0.02063301,  0.01929132], dtype=float32),\n",
       " array([-0.01382395, -0.00268456,  0.01436963, ..., -0.01435664,\n",
       "        -0.01572084,  0.02569903], dtype=float32),\n",
       " array([ 0.03998043,  0.02327936, -0.03229073, ..., -0.00392745,\n",
       "        -0.00089691,  0.04466634], dtype=float32),\n",
       " array([ 0.01368433,  0.00645798,  0.0193776 , ..., -0.02777846,\n",
       "        -0.02600754,  0.01244762], dtype=float32),\n",
       " array([ 0.019717  , -0.00859024, -0.01228441, ..., -0.0170625 ,\n",
       "         0.01140695,  0.04609973], dtype=float32),\n",
       " array([-0.01382395, -0.00268456,  0.01436963, ..., -0.01435664,\n",
       "        -0.01572084,  0.02569903], dtype=float32),\n",
       " array([ 0.04814588,  0.02146743,  0.01312343, ..., -0.00900737,\n",
       "        -0.00767265,  0.01612855], dtype=float32),\n",
       " array([ 0.01963075,  0.01060761, -0.00825192, ..., -0.02838045,\n",
       "        -0.01292124,  0.01724701], dtype=float32),\n",
       " array([ 0.02661089,  0.0439847 ,  0.00598673, ..., -0.02539472,\n",
       "         0.01621556,  0.02047214], dtype=float32),\n",
       " array([ 0.04429914,  0.03369448,  0.01775665, ..., -0.01136765,\n",
       "         0.01159885,  0.05126616], dtype=float32),\n",
       " array([ 0.01368433,  0.00645798,  0.0193776 , ..., -0.02777846,\n",
       "        -0.02600754,  0.01244762], dtype=float32),\n",
       " array([-0.01382395, -0.00268456,  0.01436963, ..., -0.01435664,\n",
       "        -0.01572084,  0.02569903], dtype=float32),\n",
       " array([ 0.01964109,  0.04185026, -0.00258394, ..., -0.00093826,\n",
       "         0.03417771,  0.02227258], dtype=float32),\n",
       " array([ 0.01314442,  0.01942084, -0.00896014, ..., -0.00903949,\n",
       "         0.00282259,  0.01393799], dtype=float32),\n",
       " array([-0.02894994,  0.05078324, -0.00881523, ...,  0.00085433,\n",
       "         0.01854354,  0.00274595], dtype=float32),\n",
       " array([ 0.019717  , -0.00859024, -0.01228441, ..., -0.0170625 ,\n",
       "         0.01140695,  0.04609973], dtype=float32),\n",
       " array([-0.02009564,  0.04277633,  0.00325823, ..., -0.02768151,\n",
       "         0.01764908, -0.00041257], dtype=float32),\n",
       " array([ 0.02661089,  0.0439847 ,  0.00598673, ..., -0.02539472,\n",
       "         0.01621556,  0.02047214], dtype=float32),\n",
       " array([ 0.02387951,  0.01721875, -0.01238616, ..., -0.02776258,\n",
       "         0.00090257,  0.00113729], dtype=float32),\n",
       " array([ 0.019717  , -0.00859024, -0.01228441, ..., -0.0170625 ,\n",
       "         0.01140695,  0.04609973], dtype=float32),\n",
       " array([ 0.02661089,  0.0439847 ,  0.00598673, ..., -0.02539472,\n",
       "         0.01621556,  0.02047214], dtype=float32),\n",
       " array([-0.01115635,  0.012151  , -0.00386724, ...,  0.00368724,\n",
       "         0.01585494,  0.01128996], dtype=float32),\n",
       " array([-0.01382395, -0.00268456,  0.01436963, ..., -0.01435664,\n",
       "        -0.01572084,  0.02569903], dtype=float32)]"
      ]
     },
     "execution_count": 16,
     "metadata": {},
     "output_type": "execute_result"
    }
   ],
   "source": [
    "# Print embedding of first article's first couple of words\n",
    "openai_ef(articles[\"Article\"][0][:30])"
   ]
  },
  {
   "cell_type": "markdown",
   "id": "0ff718a2-5739-49e0-a4ed-c4585a4a6e7f",
   "metadata": {},
   "source": [
    "### Test"
   ]
  },
  {
   "cell_type": "code",
   "execution_count": 17,
   "id": "421300bb-ed93-4212-9415-26e213a05e9c",
   "metadata": {},
   "outputs": [
    {
     "name": "stdout",
     "output_type": "stream",
     "text": [
      "1\n",
      "1536\n"
     ]
    }
   ],
   "source": [
    "# Create articles collection\n",
    "collection = chroma_client.get_or_create_collection(name=\"articles\")\n",
    "\n",
    "# Add first article\n",
    "vectors=openai_ef([articles[\"Article\"][0]]) # Note we are always passing an array (hence [...])\n",
    "print(len(vectors))\n",
    "print(len(vectors[0])) # Embedding dimensionality"
   ]
  },
  {
   "cell_type": "code",
   "execution_count": 18,
   "id": "7731cc41-a795-40eb-af53-e89c4fe636bb",
   "metadata": {},
   "outputs": [],
   "source": [
    "# Add to chroma. Also add the OpenAI embedding.\n",
    "# If we didn't pass the embeddings explicitly, chroma would use the default embedding function.\n",
    "#  (But we have to remember to use the same embedding model for query texts, see cell below this one where we create the embedding)\n",
    "collection.add(\n",
    "    documents=[\n",
    "        articles[\"Article\"][0]\n",
    "    ],\n",
    "    ids=[\"id1\"],\n",
    "    embeddings=vectors\n",
    ")"
   ]
  },
  {
   "cell_type": "code",
   "execution_count": 19,
   "id": "4736eacd-25cd-4de7-8b76-002b6d480fb8",
   "metadata": {},
   "outputs": [
    {
     "data": {
      "text/plain": [
       "{'ids': [['id1']],\n",
       " 'embeddings': None,\n",
       " 'documents': [['KARACHI: The Sindh government has decided to bring down public transport fares by 7 per cent due to massive reduction in petroleum product prices by the federal government, Geo News reported.Sources said reduction in fares will be applicable on public transport, rickshaw, taxi and other means of traveling.Meanwhile, Karachi Transport Ittehad (KTI) has refused to abide by the government decision.KTI President Irshad Bukhari said the commuters are charged the lowest fares in Karachi as compare to other parts of the country, adding that 80pc vehicles run on Compressed Natural Gas (CNG). Bukhari said Karachi transporters will cut fares when decrease in CNG prices will be made.                        \\n\\n\\n\\n\\n\\n\\n\\n\\n\\n\\n']],\n",
       " 'uris': None,\n",
       " 'data': None,\n",
       " 'metadatas': [[None]],\n",
       " 'distances': [[0.9042726755142212]],\n",
       " 'included': [<IncludeEnum.distances: 'distances'>,\n",
       "  <IncludeEnum.documents: 'documents'>,\n",
       "  <IncludeEnum.metadatas: 'metadatas'>]}"
      ]
     },
     "execution_count": 19,
     "metadata": {},
     "output_type": "execute_result"
    }
   ],
   "source": [
    "query = \"public transport fares by 7 per cent\"\n",
    "\n",
    "# Create an embedding out of the query first. \n",
    "# We would obviously not need this if we used the default embedding function.\n",
    "query_embeddings = openai_ef([query]) \n",
    "\n",
    "# Perform query\n",
    "collection.query(\n",
    "    query_embeddings=query_embeddings,\n",
    "    n_results=1\n",
    ")"
   ]
  },
  {
   "cell_type": "markdown",
   "id": "0281a465-9ca9-4197-8ea2-a7f581bd0ace",
   "metadata": {},
   "source": [
    "##### Now that the test succeeded, embed all 50 articles"
   ]
  },
  {
   "cell_type": "code",
   "execution_count": 20,
   "id": "530c3999-944a-400a-b1c2-ffede474acb8",
   "metadata": {},
   "outputs": [],
   "source": [
    "# First let's clear the collection\n",
    "chroma_client.delete_collection(name=\"articles\")"
   ]
  },
  {
   "cell_type": "code",
   "execution_count": 21,
   "id": "047bd3dd-0d47-491a-8026-94a76af58748",
   "metadata": {},
   "outputs": [
    {
     "name": "stdout",
     "output_type": "stream",
     "text": [
      "50\n",
      "1536\n"
     ]
    }
   ],
   "source": [
    "# Create articles collection again\n",
    "collection = chroma_client.get_or_create_collection(name=\"articles\")\n",
    "\n",
    "# Add 50 articles\n",
    "vectors=openai_ef(articles[\"Article\"][:50].to_list()) # Note here since we're adding a list, no [] is needed\n",
    "print(len(vectors))\n",
    "print(len(vectors[0])) # Embedding dimensionality"
   ]
  },
  {
   "cell_type": "markdown",
   "id": "a7c3d743-40bb-4681-a8c6-2a2e2c03cff0",
   "metadata": {},
   "source": [
    "##### Add Indexes"
   ]
  },
  {
   "cell_type": "code",
   "execution_count": 22,
   "id": "b03a29c9-37e9-4725-be99-155a24060260",
   "metadata": {},
   "outputs": [
    {
     "name": "stdout",
     "output_type": "stream",
     "text": [
      "['id1', 'id2', 'id3', 'id4', 'id5']\n"
     ]
    }
   ],
   "source": [
    "indexes = [f\"id{x}\" for x in articles[\"index\"]]\n",
    "print(indexes[:5])"
   ]
  },
  {
   "cell_type": "markdown",
   "id": "f9d84967-e160-489b-be0c-1f90105b02a8",
   "metadata": {},
   "source": [
    "##### Add to collection"
   ]
  },
  {
   "cell_type": "code",
   "execution_count": 23,
   "id": "5c198c29-36a6-45c1-9133-ad27bcc630c2",
   "metadata": {},
   "outputs": [
    {
     "name": "stdout",
     "output_type": "stream",
     "text": [
      "(50, 5)\n"
     ]
    }
   ],
   "source": [
    "print(articles.shape) # Make sure articles is of expected size"
   ]
  },
  {
   "cell_type": "code",
   "execution_count": 24,
   "id": "9cab2552-93a3-4f09-9779-f87dd8964001",
   "metadata": {},
   "outputs": [],
   "source": [
    "collection.add(\n",
    "    documents=articles[\"Article\"].to_list(), # We want just the articles, not the whole articles DATASET!\n",
    "    ids=indexes,\n",
    "    embeddings=vectors\n",
    ")"
   ]
  },
  {
   "cell_type": "code",
   "execution_count": 25,
   "id": "e7f69902-3f3d-47d6-b7f1-5e53a70def3e",
   "metadata": {},
   "outputs": [
    {
     "data": {
      "text/plain": [
       "50"
      ]
     },
     "execution_count": 25,
     "metadata": {},
     "output_type": "execute_result"
    }
   ],
   "source": [
    "collection.count() # Should return 50."
   ]
  },
  {
   "cell_type": "code",
   "execution_count": 26,
   "id": "018cf1b3-973c-4581-9dc7-c0007277cd62",
   "metadata": {},
   "outputs": [
    {
     "data": {
      "text/plain": [
       "{'ids': [['id1']],\n",
       " 'embeddings': None,\n",
       " 'documents': [['KARACHI: The Sindh government has decided to bring down public transport fares by 7 per cent due to massive reduction in petroleum product prices by the federal government, Geo News reported.Sources said reduction in fares will be applicable on public transport, rickshaw, taxi and other means of traveling.Meanwhile, Karachi Transport Ittehad (KTI) has refused to abide by the government decision.KTI President Irshad Bukhari said the commuters are charged the lowest fares in Karachi as compare to other parts of the country, adding that 80pc vehicles run on Compressed Natural Gas (CNG). Bukhari said Karachi transporters will cut fares when decrease in CNG prices will be made.                        \\n\\n\\n\\n\\n\\n\\n\\n\\n\\n\\n']],\n",
       " 'uris': None,\n",
       " 'data': None,\n",
       " 'metadatas': [[None]],\n",
       " 'distances': [[0.9040755033493042]],\n",
       " 'included': [<IncludeEnum.distances: 'distances'>,\n",
       "  <IncludeEnum.documents: 'documents'>,\n",
       "  <IncludeEnum.metadatas: 'metadatas'>]}"
      ]
     },
     "execution_count": 26,
     "metadata": {},
     "output_type": "execute_result"
    }
   ],
   "source": [
    "# We should get the same article (Or a similar one)\n",
    "collection.query(\n",
    "    query_embeddings=query_embeddings,\n",
    "    n_results=1\n",
    ")"
   ]
  },
  {
   "cell_type": "markdown",
   "id": "f4e124c4-eba6-4296-b822-7c55c3863792",
   "metadata": {},
   "source": [
    "##### Now lets return more results"
   ]
  },
  {
   "cell_type": "code",
   "execution_count": 27,
   "id": "c4dd5947-6cc8-41ba-98c1-c844c141423e",
   "metadata": {},
   "outputs": [
    {
     "data": {
      "text/plain": [
       "{'ids': [['id1', 'id29']],\n",
       " 'embeddings': None,\n",
       " 'documents': [['KARACHI: The Sindh government has decided to bring down public transport fares by 7 per cent due to massive reduction in petroleum product prices by the federal government, Geo News reported.Sources said reduction in fares will be applicable on public transport, rickshaw, taxi and other means of traveling.Meanwhile, Karachi Transport Ittehad (KTI) has refused to abide by the government decision.KTI President Irshad Bukhari said the commuters are charged the lowest fares in Karachi as compare to other parts of the country, adding that 80pc vehicles run on Compressed Natural Gas (CNG). Bukhari said Karachi transporters will cut fares when decrease in CNG prices will be made.                        \\n\\n\\n\\n\\n\\n\\n\\n\\n\\n\\n',\n",
       "   'ISLAMABAD:  Federal Minister for Finance Ishaq Dar on Saturday announced a five percent increase in the General Sales Tax (GST) on petroleum products.Dar said that the increment would enable a recovery of 12 billion rupees.The minister, however, went on to say that the ministry would still face a loss of 40 billion rupees.Earlier today, Prime Minister Nawaz Sharif announced a decrease in the price of petroleum products.Petrol has been decreased by Rs 7.99, Hi-Octane by Rs 11.82, Light Diesel by Rs 9.56 and kerosene oil by Rs 10.48 per litre. \\n\\n\\n\\n\\n\\n\\n\\n\\n\\n\\n']],\n",
       " 'uris': None,\n",
       " 'data': None,\n",
       " 'metadatas': [[None, None]],\n",
       " 'distances': [[0.9040755033493042, 1.149701476097107]],\n",
       " 'included': [<IncludeEnum.distances: 'distances'>,\n",
       "  <IncludeEnum.documents: 'documents'>,\n",
       "  <IncludeEnum.metadatas: 'metadatas'>]}"
      ]
     },
     "execution_count": 27,
     "metadata": {},
     "output_type": "execute_result"
    }
   ],
   "source": [
    "collection.query(\n",
    "    query_embeddings=query_embeddings,\n",
    "    n_results=2\n",
    ")"
   ]
  },
  {
   "cell_type": "markdown",
   "id": "673588b4-5cf5-4294-b48d-eaa953a62efa",
   "metadata": {},
   "source": [
    "**Note** The second article's similarity: \"...five percent increase in the General Sales Tax...\""
   ]
  },
  {
   "cell_type": "markdown",
   "id": "4670e80a-4288-4c38-aed1-d22ceab73240",
   "metadata": {},
   "source": [
    "### Retrieval\n",
    "Now lets make a retriveal by asking an actual question.\n",
    "\n",
    "Note that this will just be similarity search by chroma again, no inference or anything like that."
   ]
  },
  {
   "cell_type": "code",
   "execution_count": 28,
   "id": "e7e8578d-9c8a-4dd5-86a3-0007ca1795ca",
   "metadata": {},
   "outputs": [
    {
     "data": {
      "text/plain": [
       "{'ids': [['id50', 'id39', 'id24']],\n",
       " 'embeddings': None,\n",
       " 'documents': [['London: World oil prices rose Friday, extending solid gains in the previous session in response to reports that leading petroleum producers are curtailing investment.US benchmark West Texas Intermediate (WTI) for March delivery added 75 cents to $51.96 a barrel compared with Thursday´s close.Brent North Sea crude for April leapt $1.02 to $60.30 a barrel in London afternoon trade -- the first time this year above $60.Crude futures had rallied by almost $2.50 on Thursday on reports of falling investment in the oil sector.Daniel Ang, investment analyst at Phillip Futures in Singapore, said dealers are wary about the impact of such cuts in the immediate term. \"We will continue to see range-bound trading in the immediate term with little change to fundamentals,\" Ang told AFP. \"The main thing is crude production. As long as production levels don´t go down for now, it is hard to see a reversal of low oil prices,\" he said.\"Markets seem to be ready for prices to go up again. They are just waiting for a sign that production will be significantly cut.\" A US stockpiles report Wednesday showing crude reserves standing at an 80-year high for this time of the year has exacerbated concerns about a global supply glut. Oil prices have been under pressure for months, plunging about 60 percent to just over $40 a barrel between June and the end of January.However, they have recovered slightly in recent weeks as the number of drilling rigs has fallen and oil companies such as Total and Royal Dutch Shell trimmed some investment. (AFP)                        \\n\\n\\n\\n\\n\\n\\n\\n\\n\\n\\n',\n",
       "   'ISLAMABAD: The consistent fall in the price of petrol saw a record sale in the month of January, with a 32 percent increase as compared to January 2014.Consumers across the country bought 0.39 million tonnes of petrol in January this year.According to industry sources, the price difference between petrol and compressed natural gas (CNG) dropped from 56 percent in January 2014 to 31 percent in January 2015.Global crude oil prices have fallen by 50 percent since June 2014, and to provide consistent relief to consumers, the Pakistan government has decreased the price of petrol by Rs 29 since the last four months and brought the price of Diesel down by Rs 23 in the same time frame. \\n\\n\\n\\n\\n\\n\\n\\n\\n\\n\\n',\n",
       "   'ISLAMABAD: In a move to give relief to consumers, sources in the Finance Ministry said on Tuesday that the price of petrol and petroleum products are expected to decrease further from February 1.According to sources, the price of petrol is expected to be slashed by Rs 10 per litre, High Speed Diesel by Rs 8.50 per litre, Light Diesel by Rs 11 per litre, HOBC by Rs 14 per litre, and Kerosene by Rs 12 per litre.Global crude oil prices have fallen by 50 percent since June 2014, and to provide consistent relief to consumers, the Pakistan government has decreased the price of petrol by Rs 29 since the last four months and brought the price of Diesel down by Rs 23 in the same time frame.Fuel crisis in the country began last week when Pakistan State Oil (PSO) was forced to slash imports because banks refused to extend any more credit to the government-owned company, which supplies 80 percent of the country´s oil.The shortfall led to long queues of angry motorists at petrol stations, though these have since dissipated as fuel supplies have reached the pumps. \\n\\n\\n\\n\\n\\n\\n\\n\\n\\n\\n']],\n",
       " 'uris': None,\n",
       " 'data': None,\n",
       " 'metadatas': [[None, None, None]],\n",
       " 'distances': [[0.8693140745162964, 0.8906909823417664, 0.9047104716300964]],\n",
       " 'included': [<IncludeEnum.distances: 'distances'>,\n",
       "  <IncludeEnum.documents: 'documents'>,\n",
       "  <IncludeEnum.metadatas: 'metadatas'>]}"
      ]
     },
     "execution_count": 28,
     "metadata": {},
     "output_type": "execute_result"
    }
   ],
   "source": [
    "query = \"What's going on with petrol prices?\"\n",
    "query_embeddings = openai_ef([query]) \n",
    "\n",
    "# Perform query\n",
    "collection.query(\n",
    "    query_embeddings=query_embeddings,\n",
    "    n_results=3\n",
    ")"
   ]
  },
  {
   "cell_type": "code",
   "execution_count": null,
   "id": "7772f0ba-2325-49d0-8849-bcdde285dea7",
   "metadata": {},
   "outputs": [],
   "source": []
  }
 ],
 "metadata": {
  "kernelspec": {
   "display_name": "Python 3 (ipykernel)",
   "language": "python",
   "name": "python3"
  },
  "language_info": {
   "codemirror_mode": {
    "name": "ipython",
    "version": 3
   },
   "file_extension": ".py",
   "mimetype": "text/x-python",
   "name": "python",
   "nbconvert_exporter": "python",
   "pygments_lexer": "ipython3",
   "version": "3.9.21"
  }
 },
 "nbformat": 4,
 "nbformat_minor": 5
}
